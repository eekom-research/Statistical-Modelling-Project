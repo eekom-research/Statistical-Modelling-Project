{
 "cells": [
  {
   "cell_type": "markdown",
   "metadata": {},
   "source": [
    "# CityBikes"
   ]
  },
  {
   "cell_type": "code",
   "execution_count": 1,
   "metadata": {
    "tags": []
   },
   "outputs": [],
   "source": [
    "import requests\n",
    "import pandas as pd\n",
    "from pprint import pprint"
   ]
  },
  {
   "cell_type": "code",
   "execution_count": 78,
   "metadata": {
    "tags": []
   },
   "outputs": [],
   "source": [
    "city_bike_base_url = 'http://api.citybik.es'\n",
    "networks_endpoint = '/v2/networks'\n",
    "# define helper function to make to avoid repeated code for subsequent calls\n",
    "def get_city_bike_data(base_url,endpoint,params=None):\n",
    "    url = city_bike_base_url + endpoint\n",
    "    return requests.get(url,params=params)"
   ]
  },
  {
   "cell_type": "code",
   "execution_count": 79,
   "metadata": {
    "tags": []
   },
   "outputs": [],
   "source": [
    "response = get_city_bike_data(city_bike_base_url,networks_endpoint)"
   ]
  },
  {
   "cell_type": "code",
   "execution_count": 80,
   "metadata": {
    "tags": []
   },
   "outputs": [
    {
     "data": {
      "text/plain": [
       "'http://api.citybik.es/v2/networks'"
      ]
     },
     "execution_count": 80,
     "metadata": {},
     "output_type": "execute_result"
    }
   ],
   "source": [
    "response.request.url"
   ]
  },
  {
   "cell_type": "code",
   "execution_count": 48,
   "metadata": {
    "tags": []
   },
   "outputs": [],
   "source": [
    "result = response.json()"
   ]
  },
  {
   "cell_type": "code",
   "execution_count": 51,
   "metadata": {
    "tags": []
   },
   "outputs": [],
   "source": [
    "df_networks= pd.json_normalize(result['networks'], sep='_') #sep used to format column names during flattening"
   ]
  },
  {
   "cell_type": "code",
   "execution_count": 52,
   "metadata": {
    "tags": []
   },
   "outputs": [
    {
     "data": {
      "text/html": [
       "<div>\n",
       "<style scoped>\n",
       "    .dataframe tbody tr th:only-of-type {\n",
       "        vertical-align: middle;\n",
       "    }\n",
       "\n",
       "    .dataframe tbody tr th {\n",
       "        vertical-align: top;\n",
       "    }\n",
       "\n",
       "    .dataframe thead th {\n",
       "        text-align: right;\n",
       "    }\n",
       "</style>\n",
       "<table border=\"1\" class=\"dataframe\">\n",
       "  <thead>\n",
       "    <tr style=\"text-align: right;\">\n",
       "      <th></th>\n",
       "      <th>company</th>\n",
       "      <th>href</th>\n",
       "      <th>id</th>\n",
       "      <th>name</th>\n",
       "      <th>location_city</th>\n",
       "      <th>location_country</th>\n",
       "      <th>location_latitude</th>\n",
       "      <th>location_longitude</th>\n",
       "      <th>source</th>\n",
       "      <th>gbfs_href</th>\n",
       "      <th>license_name</th>\n",
       "      <th>license_url</th>\n",
       "      <th>ebikes</th>\n",
       "    </tr>\n",
       "  </thead>\n",
       "  <tbody>\n",
       "    <tr>\n",
       "      <th>0</th>\n",
       "      <td>[ЗАО «СитиБайк»]</td>\n",
       "      <td>/v2/networks/velobike-moscow</td>\n",
       "      <td>velobike-moscow</td>\n",
       "      <td>Velobike</td>\n",
       "      <td>Moscow</td>\n",
       "      <td>RU</td>\n",
       "      <td>55.750000</td>\n",
       "      <td>37.616667</td>\n",
       "      <td>NaN</td>\n",
       "      <td>NaN</td>\n",
       "      <td>NaN</td>\n",
       "      <td>NaN</td>\n",
       "      <td>NaN</td>\n",
       "    </tr>\n",
       "    <tr>\n",
       "      <th>1</th>\n",
       "      <td>[Urban Infrastructure Partner]</td>\n",
       "      <td>/v2/networks/baerum-bysykkel</td>\n",
       "      <td>baerum-bysykkel</td>\n",
       "      <td>Bysykkel</td>\n",
       "      <td>Bærum</td>\n",
       "      <td>NO</td>\n",
       "      <td>59.894550</td>\n",
       "      <td>10.546343</td>\n",
       "      <td>NaN</td>\n",
       "      <td>NaN</td>\n",
       "      <td>NaN</td>\n",
       "      <td>NaN</td>\n",
       "      <td>NaN</td>\n",
       "    </tr>\n",
       "    <tr>\n",
       "      <th>2</th>\n",
       "      <td>[Comunicare S.r.l.]</td>\n",
       "      <td>/v2/networks/bicincitta-siena</td>\n",
       "      <td>bicincitta-siena</td>\n",
       "      <td>Bicincittà</td>\n",
       "      <td>Siena</td>\n",
       "      <td>IT</td>\n",
       "      <td>43.318600</td>\n",
       "      <td>11.330600</td>\n",
       "      <td>https://www.bicincitta.com/frmLeStazioni.aspx?...</td>\n",
       "      <td>NaN</td>\n",
       "      <td>NaN</td>\n",
       "      <td>NaN</td>\n",
       "      <td>NaN</td>\n",
       "    </tr>\n",
       "    <tr>\n",
       "      <th>3</th>\n",
       "      <td>[Cyclopolis Systems]</td>\n",
       "      <td>/v2/networks/cyclopolis-maroussi</td>\n",
       "      <td>cyclopolis-maroussi</td>\n",
       "      <td>Cyclopolis</td>\n",
       "      <td>Maroussi</td>\n",
       "      <td>GR</td>\n",
       "      <td>38.056872</td>\n",
       "      <td>23.808330</td>\n",
       "      <td>NaN</td>\n",
       "      <td>NaN</td>\n",
       "      <td>NaN</td>\n",
       "      <td>NaN</td>\n",
       "      <td>NaN</td>\n",
       "    </tr>\n",
       "    <tr>\n",
       "      <th>4</th>\n",
       "      <td>[Cyclopolis Systems]</td>\n",
       "      <td>/v2/networks/cyclopolis-nafplio</td>\n",
       "      <td>cyclopolis-nafplio</td>\n",
       "      <td>Cyclopolis</td>\n",
       "      <td>Nafplio</td>\n",
       "      <td>GR</td>\n",
       "      <td>37.563940</td>\n",
       "      <td>22.809340</td>\n",
       "      <td>NaN</td>\n",
       "      <td>NaN</td>\n",
       "      <td>NaN</td>\n",
       "      <td>NaN</td>\n",
       "      <td>NaN</td>\n",
       "    </tr>\n",
       "  </tbody>\n",
       "</table>\n",
       "</div>"
      ],
      "text/plain": [
       "                          company                              href  \\\n",
       "0                [ЗАО «СитиБайк»]      /v2/networks/velobike-moscow   \n",
       "1  [Urban Infrastructure Partner]      /v2/networks/baerum-bysykkel   \n",
       "2             [Comunicare S.r.l.]     /v2/networks/bicincitta-siena   \n",
       "3            [Cyclopolis Systems]  /v2/networks/cyclopolis-maroussi   \n",
       "4            [Cyclopolis Systems]   /v2/networks/cyclopolis-nafplio   \n",
       "\n",
       "                    id        name location_city location_country  \\\n",
       "0      velobike-moscow    Velobike        Moscow               RU   \n",
       "1      baerum-bysykkel    Bysykkel         Bærum               NO   \n",
       "2     bicincitta-siena  Bicincittà         Siena               IT   \n",
       "3  cyclopolis-maroussi  Cyclopolis      Maroussi               GR   \n",
       "4   cyclopolis-nafplio  Cyclopolis       Nafplio               GR   \n",
       "\n",
       "   location_latitude  location_longitude  \\\n",
       "0          55.750000           37.616667   \n",
       "1          59.894550           10.546343   \n",
       "2          43.318600           11.330600   \n",
       "3          38.056872           23.808330   \n",
       "4          37.563940           22.809340   \n",
       "\n",
       "                                              source gbfs_href license_name  \\\n",
       "0                                                NaN       NaN          NaN   \n",
       "1                                                NaN       NaN          NaN   \n",
       "2  https://www.bicincitta.com/frmLeStazioni.aspx?...       NaN          NaN   \n",
       "3                                                NaN       NaN          NaN   \n",
       "4                                                NaN       NaN          NaN   \n",
       "\n",
       "  license_url ebikes  \n",
       "0         NaN    NaN  \n",
       "1         NaN    NaN  \n",
       "2         NaN    NaN  \n",
       "3         NaN    NaN  \n",
       "4         NaN    NaN  "
      ]
     },
     "execution_count": 52,
     "metadata": {},
     "output_type": "execute_result"
    }
   ],
   "source": [
    "df_networks.head()"
   ]
  },
  {
   "cell_type": "code",
   "execution_count": null,
   "metadata": {},
   "outputs": [],
   "source": []
  },
  {
   "cell_type": "code",
   "execution_count": 38,
   "metadata": {
    "tags": []
   },
   "outputs": [],
   "source": [
    "store_records = []\n",
    "for network in result['networks']:\n",
    "    city = network['location']['city']\n",
    "    country = network['location']['country']\n",
    "    network_id_endpoint = network['href']\n",
    "    record = {\n",
    "            'city': city,\n",
    "            'country': country,\n",
    "            'path': network_id_endpoint\n",
    "        }\n",
    "    store_records.append(record)"
   ]
  },
  {
   "cell_type": "code",
   "execution_count": 39,
   "metadata": {
    "tags": []
   },
   "outputs": [],
   "source": [
    "df_networks = pd.DataFrame(store_records)"
   ]
  },
  {
   "cell_type": "code",
   "execution_count": 41,
   "metadata": {
    "tags": []
   },
   "outputs": [
    {
     "data": {
      "text/html": [
       "<div>\n",
       "<style scoped>\n",
       "    .dataframe tbody tr th:only-of-type {\n",
       "        vertical-align: middle;\n",
       "    }\n",
       "\n",
       "    .dataframe tbody tr th {\n",
       "        vertical-align: top;\n",
       "    }\n",
       "\n",
       "    .dataframe thead th {\n",
       "        text-align: right;\n",
       "    }\n",
       "</style>\n",
       "<table border=\"1\" class=\"dataframe\">\n",
       "  <thead>\n",
       "    <tr style=\"text-align: right;\">\n",
       "      <th></th>\n",
       "      <th>city</th>\n",
       "      <th>country</th>\n",
       "      <th>path</th>\n",
       "    </tr>\n",
       "  </thead>\n",
       "  <tbody>\n",
       "    <tr>\n",
       "      <th>0</th>\n",
       "      <td>Moscow</td>\n",
       "      <td>RU</td>\n",
       "      <td>/v2/networks/velobike-moscow</td>\n",
       "    </tr>\n",
       "    <tr>\n",
       "      <th>1</th>\n",
       "      <td>Bærum</td>\n",
       "      <td>NO</td>\n",
       "      <td>/v2/networks/baerum-bysykkel</td>\n",
       "    </tr>\n",
       "    <tr>\n",
       "      <th>2</th>\n",
       "      <td>Siena</td>\n",
       "      <td>IT</td>\n",
       "      <td>/v2/networks/bicincitta-siena</td>\n",
       "    </tr>\n",
       "    <tr>\n",
       "      <th>3</th>\n",
       "      <td>Maroussi</td>\n",
       "      <td>GR</td>\n",
       "      <td>/v2/networks/cyclopolis-maroussi</td>\n",
       "    </tr>\n",
       "    <tr>\n",
       "      <th>4</th>\n",
       "      <td>Nafplio</td>\n",
       "      <td>GR</td>\n",
       "      <td>/v2/networks/cyclopolis-nafplio</td>\n",
       "    </tr>\n",
       "  </tbody>\n",
       "</table>\n",
       "</div>"
      ],
      "text/plain": [
       "       city country                              path\n",
       "0    Moscow      RU      /v2/networks/velobike-moscow\n",
       "1     Bærum      NO      /v2/networks/baerum-bysykkel\n",
       "2     Siena      IT     /v2/networks/bicincitta-siena\n",
       "3  Maroussi      GR  /v2/networks/cyclopolis-maroussi\n",
       "4   Nafplio      GR   /v2/networks/cyclopolis-nafplio"
      ]
     },
     "execution_count": 41,
     "metadata": {},
     "output_type": "execute_result"
    }
   ],
   "source": [
    "df_networks.head()"
   ]
  },
  {
   "cell_type": "code",
   "execution_count": 54,
   "metadata": {
    "tags": []
   },
   "outputs": [
    {
     "data": {
      "text/plain": [
       "location_city\n",
       "Ljubljana      2\n",
       "São Paulo      2\n",
       "Bratislava     2\n",
       "Igoumenitsa    2\n",
       "Bergamo        2\n",
       "Frankfurt      2\n",
       "Köln           2\n",
       "Hamburg        2\n",
       "Berlin         2\n",
       "Nicosia        2\n",
       "Name: count, dtype: int64"
      ]
     },
     "execution_count": 54,
     "metadata": {},
     "output_type": "execute_result"
    }
   ],
   "source": [
    "df_networks['location_city'].value_counts().head(10)"
   ]
  },
  {
   "cell_type": "code",
   "execution_count": null,
   "metadata": {},
   "outputs": [],
   "source": [
    "# I choose Berlin from the list of the cities with the most networks"
   ]
  },
  {
   "cell_type": "code",
   "execution_count": 55,
   "metadata": {
    "tags": []
   },
   "outputs": [
    {
     "data": {
      "text/html": [
       "<div>\n",
       "<style scoped>\n",
       "    .dataframe tbody tr th:only-of-type {\n",
       "        vertical-align: middle;\n",
       "    }\n",
       "\n",
       "    .dataframe tbody tr th {\n",
       "        vertical-align: top;\n",
       "    }\n",
       "\n",
       "    .dataframe thead th {\n",
       "        text-align: right;\n",
       "    }\n",
       "</style>\n",
       "<table border=\"1\" class=\"dataframe\">\n",
       "  <thead>\n",
       "    <tr style=\"text-align: right;\">\n",
       "      <th></th>\n",
       "      <th>company</th>\n",
       "      <th>href</th>\n",
       "      <th>id</th>\n",
       "      <th>name</th>\n",
       "      <th>location_city</th>\n",
       "      <th>location_country</th>\n",
       "      <th>location_latitude</th>\n",
       "      <th>location_longitude</th>\n",
       "      <th>source</th>\n",
       "      <th>gbfs_href</th>\n",
       "      <th>license_name</th>\n",
       "      <th>license_url</th>\n",
       "      <th>ebikes</th>\n",
       "    </tr>\n",
       "  </thead>\n",
       "  <tbody>\n",
       "    <tr>\n",
       "      <th>344</th>\n",
       "      <td>[Nextbike GmbH]</td>\n",
       "      <td>/v2/networks/nextbike-berlin</td>\n",
       "      <td>nextbike-berlin</td>\n",
       "      <td>Nextbike</td>\n",
       "      <td>Berlin</td>\n",
       "      <td>DE</td>\n",
       "      <td>52.5087</td>\n",
       "      <td>13.3563</td>\n",
       "      <td>NaN</td>\n",
       "      <td>NaN</td>\n",
       "      <td>NaN</td>\n",
       "      <td>NaN</td>\n",
       "      <td>NaN</td>\n",
       "    </tr>\n",
       "    <tr>\n",
       "      <th>619</th>\n",
       "      <td>None</td>\n",
       "      <td>/v2/networks/callabike-berlin</td>\n",
       "      <td>callabike-berlin</td>\n",
       "      <td>Call-A-Bike</td>\n",
       "      <td>Berlin</td>\n",
       "      <td>DE</td>\n",
       "      <td>52.5179</td>\n",
       "      <td>13.3895</td>\n",
       "      <td>NaN</td>\n",
       "      <td>https://apis.deutschebahn.com/db-api-marketpla...</td>\n",
       "      <td>NaN</td>\n",
       "      <td>NaN</td>\n",
       "      <td>NaN</td>\n",
       "    </tr>\n",
       "  </tbody>\n",
       "</table>\n",
       "</div>"
      ],
      "text/plain": [
       "             company                           href                id  \\\n",
       "344  [Nextbike GmbH]   /v2/networks/nextbike-berlin   nextbike-berlin   \n",
       "619             None  /v2/networks/callabike-berlin  callabike-berlin   \n",
       "\n",
       "            name location_city location_country  location_latitude  \\\n",
       "344     Nextbike        Berlin               DE            52.5087   \n",
       "619  Call-A-Bike        Berlin               DE            52.5179   \n",
       "\n",
       "     location_longitude source  \\\n",
       "344             13.3563    NaN   \n",
       "619             13.3895    NaN   \n",
       "\n",
       "                                             gbfs_href license_name  \\\n",
       "344                                                NaN          NaN   \n",
       "619  https://apis.deutschebahn.com/db-api-marketpla...          NaN   \n",
       "\n",
       "    license_url ebikes  \n",
       "344         NaN    NaN  \n",
       "619         NaN    NaN  "
      ]
     },
     "execution_count": 55,
     "metadata": {},
     "output_type": "execute_result"
    }
   ],
   "source": [
    "df_networks.loc[df_networks['location_city']=='Berlin',:]"
   ]
  },
  {
   "cell_type": "code",
   "execution_count": 60,
   "metadata": {
    "tags": []
   },
   "outputs": [],
   "source": [
    "Berlin_endpoints = df_networks.loc[df_networks['location_city']=='Berlin',:]['href'].to_list()"
   ]
  },
  {
   "cell_type": "code",
   "execution_count": 72,
   "metadata": {
    "tags": []
   },
   "outputs": [
    {
     "data": {
      "text/plain": [
       "['/v2/networks/nextbike-berlin', '/v2/networks/callabike-berlin']"
      ]
     },
     "execution_count": 72,
     "metadata": {},
     "output_type": "execute_result"
    }
   ],
   "source": [
    "Berlin_endpoints"
   ]
  },
  {
   "cell_type": "code",
   "execution_count": null,
   "metadata": {},
   "outputs": [],
   "source": []
  },
  {
   "cell_type": "code",
   "execution_count": null,
   "metadata": {},
   "outputs": [],
   "source": []
  },
  {
   "cell_type": "markdown",
   "metadata": {},
   "source": [
    "Send a request to CityBikes for the city of your choice. "
   ]
  },
  {
   "cell_type": "code",
   "execution_count": 76,
   "metadata": {
    "tags": []
   },
   "outputs": [
    {
     "name": "stdout",
     "output_type": "stream",
     "text": [
      "/v2/networks/nextbike-berlin\n",
      "/v2/networks/callabike-berlin\n"
     ]
    }
   ],
   "source": [
    "params ={'fields':'stations'}\n",
    "store_networks = []\n",
    "for endpoint in Berlin_endpoints:\n",
    "    print(endpoint)\n",
    "    response = get_city_bike_data(city_bike_base_url,endpoint,params=params)\n",
    "    store_networks.append(response)"
   ]
  },
  {
   "cell_type": "code",
   "execution_count": 82,
   "metadata": {
    "tags": []
   },
   "outputs": [
    {
     "name": "stdout",
     "output_type": "stream",
     "text": [
      "http://api.citybik.es/v2/networks/nextbike-berlin?fields=stations\n",
      "http://api.citybik.es/v2/networks/callabike-berlin?fields=stations\n"
     ]
    }
   ],
   "source": [
    "for network in store_networks:\n",
    "    print(network.request.url)"
   ]
  },
  {
   "cell_type": "markdown",
   "metadata": {},
   "source": [
    "Parse through the response to get the details you want for the bike stations in that city (latitude, longitude, number of bikes). "
   ]
  },
  {
   "cell_type": "code",
   "execution_count": 120,
   "metadata": {
    "tags": []
   },
   "outputs": [],
   "source": [
    "berlin_1 = store_networks[0].json()"
   ]
  },
  {
   "cell_type": "code",
   "execution_count": 121,
   "metadata": {
    "tags": []
   },
   "outputs": [],
   "source": [
    "df_berlin1 = pd.json_normalize(berlin_1['network']['stations'],sep='_')"
   ]
  },
  {
   "cell_type": "code",
   "execution_count": 122,
   "metadata": {
    "tags": []
   },
   "outputs": [
    {
     "data": {
      "text/html": [
       "<div>\n",
       "<style scoped>\n",
       "    .dataframe tbody tr th:only-of-type {\n",
       "        vertical-align: middle;\n",
       "    }\n",
       "\n",
       "    .dataframe tbody tr th {\n",
       "        vertical-align: top;\n",
       "    }\n",
       "\n",
       "    .dataframe thead th {\n",
       "        text-align: right;\n",
       "    }\n",
       "</style>\n",
       "<table border=\"1\" class=\"dataframe\">\n",
       "  <thead>\n",
       "    <tr style=\"text-align: right;\">\n",
       "      <th></th>\n",
       "      <th>empty_slots</th>\n",
       "      <th>free_bikes</th>\n",
       "      <th>id</th>\n",
       "      <th>latitude</th>\n",
       "      <th>longitude</th>\n",
       "      <th>name</th>\n",
       "      <th>timestamp</th>\n",
       "      <th>extra_bike_uids</th>\n",
       "      <th>extra_number</th>\n",
       "      <th>extra_slots</th>\n",
       "      <th>extra_uid</th>\n",
       "    </tr>\n",
       "  </thead>\n",
       "  <tbody>\n",
       "    <tr>\n",
       "      <th>0</th>\n",
       "      <td>0</td>\n",
       "      <td>9</td>\n",
       "      <td>f5462555877f4cb1317baf6041527a93</td>\n",
       "      <td>52.504157</td>\n",
       "      <td>13.335328</td>\n",
       "      <td>virtuell - Kurfürstendamm/Rankestraße</td>\n",
       "      <td>2023-10-21T02:09:14.386000Z</td>\n",
       "      <td>[19185, 18430, 18272, 17379, 14400, 14409, 198...</td>\n",
       "      <td>1640</td>\n",
       "      <td>4</td>\n",
       "      <td>44437</td>\n",
       "    </tr>\n",
       "    <tr>\n",
       "      <th>1</th>\n",
       "      <td>3</td>\n",
       "      <td>0</td>\n",
       "      <td>c32093893e4e32afee18894c7c0c1ba4</td>\n",
       "      <td>52.496986</td>\n",
       "      <td>13.291210</td>\n",
       "      <td>virtuell - EDEKA Schmitt (S Halensee)</td>\n",
       "      <td>2023-10-21T02:09:14.388000Z</td>\n",
       "      <td>[]</td>\n",
       "      <td>1670</td>\n",
       "      <td>4</td>\n",
       "      <td>72228</td>\n",
       "    </tr>\n",
       "    <tr>\n",
       "      <th>2</th>\n",
       "      <td>3</td>\n",
       "      <td>1</td>\n",
       "      <td>362ba47350cab100fe1d81be3cb7a058</td>\n",
       "      <td>52.498323</td>\n",
       "      <td>13.296157</td>\n",
       "      <td>Joachim-Friedrich-Str./KuDamm</td>\n",
       "      <td>2023-10-21T02:09:14.389000Z</td>\n",
       "      <td>[19954]</td>\n",
       "      <td>1669</td>\n",
       "      <td>5</td>\n",
       "      <td>72229</td>\n",
       "    </tr>\n",
       "    <tr>\n",
       "      <th>3</th>\n",
       "      <td>2</td>\n",
       "      <td>2</td>\n",
       "      <td>07b6329ced662a2009a9132eef6ac711</td>\n",
       "      <td>52.499137</td>\n",
       "      <td>13.303743</td>\n",
       "      <td>Albrecht-Achilles-Straße</td>\n",
       "      <td>2023-10-21T02:09:14.390000Z</td>\n",
       "      <td>[19525, 100778]</td>\n",
       "      <td>1672</td>\n",
       "      <td>5</td>\n",
       "      <td>72238</td>\n",
       "    </tr>\n",
       "    <tr>\n",
       "      <th>4</th>\n",
       "      <td>4</td>\n",
       "      <td>4</td>\n",
       "      <td>dac275f8454a83bf3e1e7ad1a4fb7e99</td>\n",
       "      <td>52.500614</td>\n",
       "      <td>13.294401</td>\n",
       "      <td>Karlsruher Str./Aspria</td>\n",
       "      <td>2023-10-21T02:09:14.391000Z</td>\n",
       "      <td>[18889, 18823, 17491, 100665]</td>\n",
       "      <td>1671</td>\n",
       "      <td>8</td>\n",
       "      <td>72263</td>\n",
       "    </tr>\n",
       "  </tbody>\n",
       "</table>\n",
       "</div>"
      ],
      "text/plain": [
       "   empty_slots  free_bikes                                id   latitude  \\\n",
       "0            0           9  f5462555877f4cb1317baf6041527a93  52.504157   \n",
       "1            3           0  c32093893e4e32afee18894c7c0c1ba4  52.496986   \n",
       "2            3           1  362ba47350cab100fe1d81be3cb7a058  52.498323   \n",
       "3            2           2  07b6329ced662a2009a9132eef6ac711  52.499137   \n",
       "4            4           4  dac275f8454a83bf3e1e7ad1a4fb7e99  52.500614   \n",
       "\n",
       "   longitude                                   name  \\\n",
       "0  13.335328  virtuell - Kurfürstendamm/Rankestraße   \n",
       "1  13.291210  virtuell - EDEKA Schmitt (S Halensee)   \n",
       "2  13.296157          Joachim-Friedrich-Str./KuDamm   \n",
       "3  13.303743               Albrecht-Achilles-Straße   \n",
       "4  13.294401               Karlsruher Str./Aspria     \n",
       "\n",
       "                     timestamp  \\\n",
       "0  2023-10-21T02:09:14.386000Z   \n",
       "1  2023-10-21T02:09:14.388000Z   \n",
       "2  2023-10-21T02:09:14.389000Z   \n",
       "3  2023-10-21T02:09:14.390000Z   \n",
       "4  2023-10-21T02:09:14.391000Z   \n",
       "\n",
       "                                     extra_bike_uids extra_number  \\\n",
       "0  [19185, 18430, 18272, 17379, 14400, 14409, 198...         1640   \n",
       "1                                                 []         1670   \n",
       "2                                            [19954]         1669   \n",
       "3                                    [19525, 100778]         1672   \n",
       "4                      [18889, 18823, 17491, 100665]         1671   \n",
       "\n",
       "   extra_slots extra_uid  \n",
       "0            4     44437  \n",
       "1            4     72228  \n",
       "2            5     72229  \n",
       "3            5     72238  \n",
       "4            8     72263  "
      ]
     },
     "execution_count": 122,
     "metadata": {},
     "output_type": "execute_result"
    }
   ],
   "source": [
    "df_berlin1.head()"
   ]
  },
  {
   "cell_type": "code",
   "execution_count": 124,
   "metadata": {
    "tags": []
   },
   "outputs": [
    {
     "data": {
      "text/html": [
       "<div>\n",
       "<style scoped>\n",
       "    .dataframe tbody tr th:only-of-type {\n",
       "        vertical-align: middle;\n",
       "    }\n",
       "\n",
       "    .dataframe tbody tr th {\n",
       "        vertical-align: top;\n",
       "    }\n",
       "\n",
       "    .dataframe thead th {\n",
       "        text-align: right;\n",
       "    }\n",
       "</style>\n",
       "<table border=\"1\" class=\"dataframe\">\n",
       "  <thead>\n",
       "    <tr style=\"text-align: right;\">\n",
       "      <th></th>\n",
       "      <th>id</th>\n",
       "      <th>name</th>\n",
       "      <th>free_bikes</th>\n",
       "      <th>latitude</th>\n",
       "      <th>longitude</th>\n",
       "    </tr>\n",
       "  </thead>\n",
       "  <tbody>\n",
       "    <tr>\n",
       "      <th>0</th>\n",
       "      <td>f5462555877f4cb1317baf6041527a93</td>\n",
       "      <td>virtuell - Kurfürstendamm/Rankestraße</td>\n",
       "      <td>9</td>\n",
       "      <td>52.504157</td>\n",
       "      <td>13.335328</td>\n",
       "    </tr>\n",
       "    <tr>\n",
       "      <th>1</th>\n",
       "      <td>c32093893e4e32afee18894c7c0c1ba4</td>\n",
       "      <td>virtuell - EDEKA Schmitt (S Halensee)</td>\n",
       "      <td>0</td>\n",
       "      <td>52.496986</td>\n",
       "      <td>13.291210</td>\n",
       "    </tr>\n",
       "    <tr>\n",
       "      <th>2</th>\n",
       "      <td>362ba47350cab100fe1d81be3cb7a058</td>\n",
       "      <td>Joachim-Friedrich-Str./KuDamm</td>\n",
       "      <td>1</td>\n",
       "      <td>52.498323</td>\n",
       "      <td>13.296157</td>\n",
       "    </tr>\n",
       "    <tr>\n",
       "      <th>3</th>\n",
       "      <td>07b6329ced662a2009a9132eef6ac711</td>\n",
       "      <td>Albrecht-Achilles-Straße</td>\n",
       "      <td>2</td>\n",
       "      <td>52.499137</td>\n",
       "      <td>13.303743</td>\n",
       "    </tr>\n",
       "    <tr>\n",
       "      <th>4</th>\n",
       "      <td>dac275f8454a83bf3e1e7ad1a4fb7e99</td>\n",
       "      <td>Karlsruher Str./Aspria</td>\n",
       "      <td>4</td>\n",
       "      <td>52.500614</td>\n",
       "      <td>13.294401</td>\n",
       "    </tr>\n",
       "  </tbody>\n",
       "</table>\n",
       "</div>"
      ],
      "text/plain": [
       "                                 id                                   name  \\\n",
       "0  f5462555877f4cb1317baf6041527a93  virtuell - Kurfürstendamm/Rankestraße   \n",
       "1  c32093893e4e32afee18894c7c0c1ba4  virtuell - EDEKA Schmitt (S Halensee)   \n",
       "2  362ba47350cab100fe1d81be3cb7a058          Joachim-Friedrich-Str./KuDamm   \n",
       "3  07b6329ced662a2009a9132eef6ac711               Albrecht-Achilles-Straße   \n",
       "4  dac275f8454a83bf3e1e7ad1a4fb7e99               Karlsruher Str./Aspria     \n",
       "\n",
       "   free_bikes   latitude  longitude  \n",
       "0           9  52.504157  13.335328  \n",
       "1           0  52.496986  13.291210  \n",
       "2           1  52.498323  13.296157  \n",
       "3           2  52.499137  13.303743  \n",
       "4           4  52.500614  13.294401  "
      ]
     },
     "execution_count": 124,
     "metadata": {},
     "output_type": "execute_result"
    }
   ],
   "source": [
    "df_berlin1[['id','name','free_bikes','latitude','longitude']].head()"
   ]
  },
  {
   "cell_type": "code",
   "execution_count": 125,
   "metadata": {
    "tags": []
   },
   "outputs": [],
   "source": [
    "df_berlin1 = df_berlin1[['id','name','free_bikes','latitude','longitude']]"
   ]
  },
  {
   "cell_type": "code",
   "execution_count": 126,
   "metadata": {
    "tags": []
   },
   "outputs": [
    {
     "data": {
      "text/html": [
       "<div>\n",
       "<style scoped>\n",
       "    .dataframe tbody tr th:only-of-type {\n",
       "        vertical-align: middle;\n",
       "    }\n",
       "\n",
       "    .dataframe tbody tr th {\n",
       "        vertical-align: top;\n",
       "    }\n",
       "\n",
       "    .dataframe thead th {\n",
       "        text-align: right;\n",
       "    }\n",
       "</style>\n",
       "<table border=\"1\" class=\"dataframe\">\n",
       "  <thead>\n",
       "    <tr style=\"text-align: right;\">\n",
       "      <th></th>\n",
       "      <th>id</th>\n",
       "      <th>name</th>\n",
       "      <th>free_bikes</th>\n",
       "      <th>latitude</th>\n",
       "      <th>longitude</th>\n",
       "    </tr>\n",
       "  </thead>\n",
       "  <tbody>\n",
       "    <tr>\n",
       "      <th>0</th>\n",
       "      <td>f5462555877f4cb1317baf6041527a93</td>\n",
       "      <td>virtuell - Kurfürstendamm/Rankestraße</td>\n",
       "      <td>9</td>\n",
       "      <td>52.504157</td>\n",
       "      <td>13.335328</td>\n",
       "    </tr>\n",
       "    <tr>\n",
       "      <th>1</th>\n",
       "      <td>c32093893e4e32afee18894c7c0c1ba4</td>\n",
       "      <td>virtuell - EDEKA Schmitt (S Halensee)</td>\n",
       "      <td>0</td>\n",
       "      <td>52.496986</td>\n",
       "      <td>13.291210</td>\n",
       "    </tr>\n",
       "    <tr>\n",
       "      <th>2</th>\n",
       "      <td>362ba47350cab100fe1d81be3cb7a058</td>\n",
       "      <td>Joachim-Friedrich-Str./KuDamm</td>\n",
       "      <td>1</td>\n",
       "      <td>52.498323</td>\n",
       "      <td>13.296157</td>\n",
       "    </tr>\n",
       "    <tr>\n",
       "      <th>3</th>\n",
       "      <td>07b6329ced662a2009a9132eef6ac711</td>\n",
       "      <td>Albrecht-Achilles-Straße</td>\n",
       "      <td>2</td>\n",
       "      <td>52.499137</td>\n",
       "      <td>13.303743</td>\n",
       "    </tr>\n",
       "    <tr>\n",
       "      <th>4</th>\n",
       "      <td>dac275f8454a83bf3e1e7ad1a4fb7e99</td>\n",
       "      <td>Karlsruher Str./Aspria</td>\n",
       "      <td>4</td>\n",
       "      <td>52.500614</td>\n",
       "      <td>13.294401</td>\n",
       "    </tr>\n",
       "  </tbody>\n",
       "</table>\n",
       "</div>"
      ],
      "text/plain": [
       "                                 id                                   name  \\\n",
       "0  f5462555877f4cb1317baf6041527a93  virtuell - Kurfürstendamm/Rankestraße   \n",
       "1  c32093893e4e32afee18894c7c0c1ba4  virtuell - EDEKA Schmitt (S Halensee)   \n",
       "2  362ba47350cab100fe1d81be3cb7a058          Joachim-Friedrich-Str./KuDamm   \n",
       "3  07b6329ced662a2009a9132eef6ac711               Albrecht-Achilles-Straße   \n",
       "4  dac275f8454a83bf3e1e7ad1a4fb7e99               Karlsruher Str./Aspria     \n",
       "\n",
       "   free_bikes   latitude  longitude  \n",
       "0           9  52.504157  13.335328  \n",
       "1           0  52.496986  13.291210  \n",
       "2           1  52.498323  13.296157  \n",
       "3           2  52.499137  13.303743  \n",
       "4           4  52.500614  13.294401  "
      ]
     },
     "execution_count": 126,
     "metadata": {},
     "output_type": "execute_result"
    }
   ],
   "source": [
    "df_berlin1.head()"
   ]
  },
  {
   "cell_type": "code",
   "execution_count": 128,
   "metadata": {
    "tags": []
   },
   "outputs": [],
   "source": [
    "# repeat process for the second network in Berlin\n",
    "berlin_2 = store_networks[1].json()\n",
    "df_berlin2 = pd.json_normalize(berlin_2['network']['stations'],sep='_')\n",
    "df_berlin2 = df_berlin2[['id','name','free_bikes','latitude','longitude']]"
   ]
  },
  {
   "cell_type": "code",
   "execution_count": null,
   "metadata": {},
   "outputs": [],
   "source": []
  },
  {
   "cell_type": "code",
   "execution_count": 129,
   "metadata": {
    "tags": []
   },
   "outputs": [
    {
     "data": {
      "text/html": [
       "<div>\n",
       "<style scoped>\n",
       "    .dataframe tbody tr th:only-of-type {\n",
       "        vertical-align: middle;\n",
       "    }\n",
       "\n",
       "    .dataframe tbody tr th {\n",
       "        vertical-align: top;\n",
       "    }\n",
       "\n",
       "    .dataframe thead th {\n",
       "        text-align: right;\n",
       "    }\n",
       "</style>\n",
       "<table border=\"1\" class=\"dataframe\">\n",
       "  <thead>\n",
       "    <tr style=\"text-align: right;\">\n",
       "      <th></th>\n",
       "      <th>id</th>\n",
       "      <th>name</th>\n",
       "      <th>free_bikes</th>\n",
       "      <th>latitude</th>\n",
       "      <th>longitude</th>\n",
       "    </tr>\n",
       "  </thead>\n",
       "  <tbody>\n",
       "    <tr>\n",
       "      <th>0</th>\n",
       "      <td>bda776909eade3fa5ceebbe3bcc53126</td>\n",
       "      <td>Alt-Moabit / Gotzkowskystraße</td>\n",
       "      <td>1</td>\n",
       "      <td>52.523892</td>\n",
       "      <td>13.331252</td>\n",
       "    </tr>\n",
       "    <tr>\n",
       "      <th>1</th>\n",
       "      <td>f738c752a276f8a6867676741e1ef954</td>\n",
       "      <td>U Senefelder Platz /  Schönhauser Allee</td>\n",
       "      <td>2</td>\n",
       "      <td>52.531871</td>\n",
       "      <td>13.412681</td>\n",
       "    </tr>\n",
       "    <tr>\n",
       "      <th>2</th>\n",
       "      <td>e29e347c096a6404c7f3d4d5d82ef451</td>\n",
       "      <td>Lützowplatz / Karl-Heinrich-Ulrichsstraße</td>\n",
       "      <td>3</td>\n",
       "      <td>52.503992</td>\n",
       "      <td>13.352739</td>\n",
       "    </tr>\n",
       "    <tr>\n",
       "      <th>3</th>\n",
       "      <td>be47c6f38184ff3996a2a8485f3ad4c0</td>\n",
       "      <td>Invalidenstraße / Lesser-Ury-Weg</td>\n",
       "      <td>2</td>\n",
       "      <td>52.524195</td>\n",
       "      <td>13.361548</td>\n",
       "    </tr>\n",
       "    <tr>\n",
       "      <th>4</th>\n",
       "      <td>9cec7be548cbb7c42203f3c51fc2cefd</td>\n",
       "      <td>Mühlenstraße / Mercedes Platz</td>\n",
       "      <td>4</td>\n",
       "      <td>52.504122</td>\n",
       "      <td>13.442253</td>\n",
       "    </tr>\n",
       "  </tbody>\n",
       "</table>\n",
       "</div>"
      ],
      "text/plain": [
       "                                 id  \\\n",
       "0  bda776909eade3fa5ceebbe3bcc53126   \n",
       "1  f738c752a276f8a6867676741e1ef954   \n",
       "2  e29e347c096a6404c7f3d4d5d82ef451   \n",
       "3  be47c6f38184ff3996a2a8485f3ad4c0   \n",
       "4  9cec7be548cbb7c42203f3c51fc2cefd   \n",
       "\n",
       "                                        name  free_bikes   latitude  longitude  \n",
       "0              Alt-Moabit / Gotzkowskystraße           1  52.523892  13.331252  \n",
       "1    U Senefelder Platz /  Schönhauser Allee           2  52.531871  13.412681  \n",
       "2  Lützowplatz / Karl-Heinrich-Ulrichsstraße           3  52.503992  13.352739  \n",
       "3           Invalidenstraße / Lesser-Ury-Weg           2  52.524195  13.361548  \n",
       "4              Mühlenstraße / Mercedes Platz           4  52.504122  13.442253  "
      ]
     },
     "execution_count": 129,
     "metadata": {},
     "output_type": "execute_result"
    }
   ],
   "source": [
    "df_berlin2.head()"
   ]
  },
  {
   "cell_type": "code",
   "execution_count": null,
   "metadata": {},
   "outputs": [],
   "source": []
  },
  {
   "cell_type": "markdown",
   "metadata": {},
   "source": [
    "Put your parsed results into a DataFrame."
   ]
  },
  {
   "cell_type": "code",
   "execution_count": 130,
   "metadata": {
    "tags": []
   },
   "outputs": [],
   "source": [
    "df_berlin = pd.concat([df_berlin1,df_berlin2], axis=0)"
   ]
  },
  {
   "cell_type": "code",
   "execution_count": 131,
   "metadata": {
    "tags": []
   },
   "outputs": [
    {
     "data": {
      "text/html": [
       "<div>\n",
       "<style scoped>\n",
       "    .dataframe tbody tr th:only-of-type {\n",
       "        vertical-align: middle;\n",
       "    }\n",
       "\n",
       "    .dataframe tbody tr th {\n",
       "        vertical-align: top;\n",
       "    }\n",
       "\n",
       "    .dataframe thead th {\n",
       "        text-align: right;\n",
       "    }\n",
       "</style>\n",
       "<table border=\"1\" class=\"dataframe\">\n",
       "  <thead>\n",
       "    <tr style=\"text-align: right;\">\n",
       "      <th></th>\n",
       "      <th>id</th>\n",
       "      <th>name</th>\n",
       "      <th>free_bikes</th>\n",
       "      <th>latitude</th>\n",
       "      <th>longitude</th>\n",
       "    </tr>\n",
       "  </thead>\n",
       "  <tbody>\n",
       "    <tr>\n",
       "      <th>0</th>\n",
       "      <td>f5462555877f4cb1317baf6041527a93</td>\n",
       "      <td>virtuell - Kurfürstendamm/Rankestraße</td>\n",
       "      <td>9</td>\n",
       "      <td>52.504157</td>\n",
       "      <td>13.335328</td>\n",
       "    </tr>\n",
       "    <tr>\n",
       "      <th>1</th>\n",
       "      <td>c32093893e4e32afee18894c7c0c1ba4</td>\n",
       "      <td>virtuell - EDEKA Schmitt (S Halensee)</td>\n",
       "      <td>0</td>\n",
       "      <td>52.496986</td>\n",
       "      <td>13.291210</td>\n",
       "    </tr>\n",
       "    <tr>\n",
       "      <th>2</th>\n",
       "      <td>362ba47350cab100fe1d81be3cb7a058</td>\n",
       "      <td>Joachim-Friedrich-Str./KuDamm</td>\n",
       "      <td>1</td>\n",
       "      <td>52.498323</td>\n",
       "      <td>13.296157</td>\n",
       "    </tr>\n",
       "    <tr>\n",
       "      <th>3</th>\n",
       "      <td>07b6329ced662a2009a9132eef6ac711</td>\n",
       "      <td>Albrecht-Achilles-Straße</td>\n",
       "      <td>2</td>\n",
       "      <td>52.499137</td>\n",
       "      <td>13.303743</td>\n",
       "    </tr>\n",
       "    <tr>\n",
       "      <th>4</th>\n",
       "      <td>dac275f8454a83bf3e1e7ad1a4fb7e99</td>\n",
       "      <td>Karlsruher Str./Aspria</td>\n",
       "      <td>4</td>\n",
       "      <td>52.500614</td>\n",
       "      <td>13.294401</td>\n",
       "    </tr>\n",
       "  </tbody>\n",
       "</table>\n",
       "</div>"
      ],
      "text/plain": [
       "                                 id                                   name  \\\n",
       "0  f5462555877f4cb1317baf6041527a93  virtuell - Kurfürstendamm/Rankestraße   \n",
       "1  c32093893e4e32afee18894c7c0c1ba4  virtuell - EDEKA Schmitt (S Halensee)   \n",
       "2  362ba47350cab100fe1d81be3cb7a058          Joachim-Friedrich-Str./KuDamm   \n",
       "3  07b6329ced662a2009a9132eef6ac711               Albrecht-Achilles-Straße   \n",
       "4  dac275f8454a83bf3e1e7ad1a4fb7e99               Karlsruher Str./Aspria     \n",
       "\n",
       "   free_bikes   latitude  longitude  \n",
       "0           9  52.504157  13.335328  \n",
       "1           0  52.496986  13.291210  \n",
       "2           1  52.498323  13.296157  \n",
       "3           2  52.499137  13.303743  \n",
       "4           4  52.500614  13.294401  "
      ]
     },
     "execution_count": 131,
     "metadata": {},
     "output_type": "execute_result"
    }
   ],
   "source": [
    "df_berlin.head()"
   ]
  },
  {
   "cell_type": "code",
   "execution_count": 132,
   "metadata": {
    "tags": []
   },
   "outputs": [
    {
     "data": {
      "text/plain": [
       "(3890, 5)"
      ]
     },
     "execution_count": 132,
     "metadata": {},
     "output_type": "execute_result"
    }
   ],
   "source": [
    "df_berlin.shape"
   ]
  },
  {
   "cell_type": "code",
   "execution_count": 133,
   "metadata": {
    "tags": []
   },
   "outputs": [
    {
     "data": {
      "text/html": [
       "<div>\n",
       "<style scoped>\n",
       "    .dataframe tbody tr th:only-of-type {\n",
       "        vertical-align: middle;\n",
       "    }\n",
       "\n",
       "    .dataframe tbody tr th {\n",
       "        vertical-align: top;\n",
       "    }\n",
       "\n",
       "    .dataframe thead th {\n",
       "        text-align: right;\n",
       "    }\n",
       "</style>\n",
       "<table border=\"1\" class=\"dataframe\">\n",
       "  <thead>\n",
       "    <tr style=\"text-align: right;\">\n",
       "      <th></th>\n",
       "      <th>id</th>\n",
       "      <th>name</th>\n",
       "      <th>free_bikes</th>\n",
       "      <th>latitude</th>\n",
       "      <th>longitude</th>\n",
       "    </tr>\n",
       "  </thead>\n",
       "  <tbody>\n",
       "  </tbody>\n",
       "</table>\n",
       "</div>"
      ],
      "text/plain": [
       "Empty DataFrame\n",
       "Columns: [id, name, free_bikes, latitude, longitude]\n",
       "Index: []"
      ]
     },
     "execution_count": 133,
     "metadata": {},
     "output_type": "execute_result"
    }
   ],
   "source": [
    "df_berlin[df_berlin.duplicated()] #Ensure there are no duplicated entries"
   ]
  },
  {
   "cell_type": "code",
   "execution_count": 134,
   "metadata": {
    "tags": []
   },
   "outputs": [],
   "source": [
    "# save data in a csv for future reuse\n",
    "df_berlin.to_csv('city_bikes_data',index=False)"
   ]
  },
  {
   "cell_type": "code",
   "execution_count": null,
   "metadata": {},
   "outputs": [],
   "source": []
  }
 ],
 "metadata": {
  "kernelspec": {
   "display_name": "Python 3 (ipykernel)",
   "language": "python",
   "name": "python3"
  },
  "language_info": {
   "codemirror_mode": {
    "name": "ipython",
    "version": 3
   },
   "file_extension": ".py",
   "mimetype": "text/x-python",
   "name": "python",
   "nbconvert_exporter": "python",
   "pygments_lexer": "ipython3",
   "version": "3.8.18"
  }
 },
 "nbformat": 4,
 "nbformat_minor": 4
}
