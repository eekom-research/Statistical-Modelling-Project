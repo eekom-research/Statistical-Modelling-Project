{
 "cells": [
  {
   "cell_type": "code",
   "execution_count": 63,
   "metadata": {
    "tags": []
   },
   "outputs": [],
   "source": [
    "# imports\n",
    "import requests\n",
    "import pandas as pd\n",
    "import config\n",
    "import sys\n",
    "import categories\n",
    "import numpy as np"
   ]
  },
  {
   "cell_type": "code",
   "execution_count": 62,
   "metadata": {
    "tags": []
   },
   "outputs": [],
   "source": [
    "FOURSQUARE_KEY = config.foursquare_apiKey"
   ]
  },
  {
   "cell_type": "markdown",
   "metadata": {},
   "source": [
    "# Foursquare"
   ]
  },
  {
   "cell_type": "markdown",
   "metadata": {},
   "source": [
    "Send a request to Foursquare with a small radius (1000m) for all the bike stations in your city of choice. "
   ]
  },
  {
   "cell_type": "code",
   "execution_count": 61,
   "metadata": {
    "tags": []
   },
   "outputs": [],
   "source": [
    "# build a helper function to avoid repeated calls\n",
    "def get_venues_fs(latitude, longitude, radius,categories=None):\n",
    "    \"\"\"\n",
    "    Get venues from foursquare with a specified place type and coordinates.\n",
    "    Args:\n",
    "        latitude (float): latitude for query (must be combined with longitude)\n",
    "        longitude (float): longitude for query (must be combined with latitude)\n",
    "        api_key (str): foursquare API to use for query\n",
    "        categories (str) : Foursquare-recognized place type. If not passed no place_type will be specified. Separate ids with commas\n",
    "    \n",
    "    Returns:\n",
    "        response: response object from the requests library.\n",
    "    \"\"\"\n",
    "    url = 'https://api.foursquare.com/v3/places/search'\n",
    "    \n",
    "    params = {\n",
    "    'll':f\"{latitude},{longitude}\",\n",
    "    'radius':str(int(radius)),\n",
    "    'categories':categories,\n",
    "    'fields':'fsq_id,categories,name,location,rating,distance,stats,price'\n",
    "    }\n",
    "    \n",
    "    headers = {\n",
    "    'Authorization': str(FOURSQUARE_KEY)\n",
    "    }\n",
    "    response = requests.get(url,params=params,headers=headers)\n",
    "    return response"
   ]
  },
  {
   "cell_type": "code",
   "execution_count": 57,
   "metadata": {
    "tags": []
   },
   "outputs": [],
   "source": [
    "df_city_bikes_data = pd.read_csv('city_bikes_data')"
   ]
  },
  {
   "cell_type": "code",
   "execution_count": 90,
   "metadata": {
    "tags": []
   },
   "outputs": [],
   "source": [
    "df_city_bikes_subset = df_city_bikes_data.sort_values(by='id').head(300)"
   ]
  },
  {
   "cell_type": "code",
   "execution_count": 91,
   "metadata": {
    "tags": []
   },
   "outputs": [
    {
     "data": {
      "text/plain": [
       "(300, 5)"
      ]
     },
     "execution_count": 91,
     "metadata": {},
     "output_type": "execute_result"
    }
   ],
   "source": [
    "df_city_bikes_subset.shape"
   ]
  },
  {
   "cell_type": "code",
   "execution_count": 96,
   "metadata": {
    "tags": []
   },
   "outputs": [],
   "source": [
    "bike_location = [[row.id,(row.latitude,row.longitude)] for row in df_city_bikes_subset.itertuples()]"
   ]
  },
  {
   "cell_type": "code",
   "execution_count": 97,
   "metadata": {
    "tags": []
   },
   "outputs": [
    {
     "data": {
      "text/plain": [
       "300"
      ]
     },
     "execution_count": 97,
     "metadata": {},
     "output_type": "execute_result"
    }
   ],
   "source": [
    "len(bike_location)"
   ]
  },
  {
   "cell_type": "code",
   "execution_count": 98,
   "metadata": {
    "tags": []
   },
   "outputs": [
    {
     "data": {
      "text/plain": [
       "(52.5486835, 13.3881981)"
      ]
     },
     "execution_count": 98,
     "metadata": {},
     "output_type": "execute_result"
    }
   ],
   "source": [
    "bike_location[0][1]"
   ]
  },
  {
   "cell_type": "code",
   "execution_count": 71,
   "metadata": {
    "tags": []
   },
   "outputs": [],
   "source": [
    "# explore fs api with test call\n",
    "bars_id = '13003'\n",
    "restaurant_id = '13065'\n",
    "fashion_retail_id = '17039'\n",
    "\n",
    "\n",
    "category_ids =f\"{bars_id},{restaurant_id},{fashion_retail_id}\"\n",
    "result = get_venues_fs(*bike_location[0][1],radius=1000,categories=category_ids)"
   ]
  },
  {
   "cell_type": "code",
   "execution_count": 120,
   "metadata": {},
   "outputs": [
    {
     "data": {
      "text/plain": [
       "'13003,13065,17039'"
      ]
     },
     "execution_count": 120,
     "metadata": {},
     "output_type": "execute_result"
    }
   ],
   "source": [
    "category_ids"
   ]
  },
  {
   "cell_type": "code",
   "execution_count": 72,
   "metadata": {
    "tags": []
   },
   "outputs": [
    {
     "data": {
      "text/plain": [
       "'https://api.foursquare.com/v3/places/search?ll=52.504157%2C13.335328&radius=1000&categories=13003%2C13065%2C17039&fields=fsq_id%2Ccategories%2Cname%2Clocation%2Crating%2Cdistance%2Cstats%2Cprice'"
      ]
     },
     "execution_count": 72,
     "metadata": {},
     "output_type": "execute_result"
    }
   ],
   "source": [
    "result.request.url"
   ]
  },
  {
   "cell_type": "code",
   "execution_count": 73,
   "metadata": {
    "tags": []
   },
   "outputs": [],
   "source": [
    "response = result.json()"
   ]
  },
  {
   "cell_type": "code",
   "execution_count": 76,
   "metadata": {
    "tags": []
   },
   "outputs": [
    {
     "data": {
      "text/plain": [
       "{'fsq_id': '618fedbcef568823929a748e',\n",
       " 'categories': [{'id': 13026,\n",
       "   'name': 'BBQ Joint',\n",
       "   'short_name': 'BBQ',\n",
       "   'plural_name': 'BBQ Joints',\n",
       "   'icon': {'prefix': 'https://ss3.4sqi.net/img/categories_v2/food/bbqalt_',\n",
       "    'suffix': '.png'}},\n",
       "  {'id': 17057,\n",
       "   'name': 'Food and Beverage Retail',\n",
       "   'short_name': 'Food & Beverage',\n",
       "   'plural_name': 'Food and Beverage Retail',\n",
       "   'icon': {'prefix': 'https://ss3.4sqi.net/img/categories_v2/shops/foodanddrink_',\n",
       "    'suffix': '.png'}}],\n",
       " 'distance': 187,\n",
       " 'location': {'address': 'Marburger Str. 16',\n",
       "  'country': 'DE',\n",
       "  'cross_street': '',\n",
       "  'formatted_address': 'Marburger Str. 16, 10789 Berlin',\n",
       "  'locality': 'Berlin',\n",
       "  'postcode': '10789',\n",
       "  'region': 'Berlin'},\n",
       " 'name': 'Chicago Williams BBQ',\n",
       " 'price': 2,\n",
       " 'rating': 8.7,\n",
       " 'stats': {'total_photos': 29, 'total_ratings': 30, 'total_tips': 9}}"
      ]
     },
     "execution_count": 76,
     "metadata": {},
     "output_type": "execute_result"
    }
   ],
   "source": [
    "response['results'][1]"
   ]
  },
  {
   "cell_type": "code",
   "execution_count": 78,
   "metadata": {},
   "outputs": [],
   "source": [
    "column_names = ['category_id','theme','category_name']\n",
    "fs_restaurant_df = pd.read_csv('fs_restaurant_google.csv', header=None,usecols=[0,1,2],names=column_names)[['category_id','category_name']]"
   ]
  },
  {
   "cell_type": "code",
   "execution_count": 79,
   "metadata": {},
   "outputs": [
    {
     "data": {
      "text/html": [
       "<div>\n",
       "<style scoped>\n",
       "    .dataframe tbody tr th:only-of-type {\n",
       "        vertical-align: middle;\n",
       "    }\n",
       "\n",
       "    .dataframe tbody tr th {\n",
       "        vertical-align: top;\n",
       "    }\n",
       "\n",
       "    .dataframe thead th {\n",
       "        text-align: right;\n",
       "    }\n",
       "</style>\n",
       "<table border=\"1\" class=\"dataframe\">\n",
       "  <thead>\n",
       "    <tr style=\"text-align: right;\">\n",
       "      <th></th>\n",
       "      <th>category_id</th>\n",
       "      <th>category_name</th>\n",
       "    </tr>\n",
       "  </thead>\n",
       "  <tbody>\n",
       "    <tr>\n",
       "      <th>0</th>\n",
       "      <td>13026</td>\n",
       "      <td>Restaurant</td>\n",
       "    </tr>\n",
       "    <tr>\n",
       "      <th>1</th>\n",
       "      <td>13027</td>\n",
       "      <td>Restaurant</td>\n",
       "    </tr>\n",
       "    <tr>\n",
       "      <th>2</th>\n",
       "      <td>13030</td>\n",
       "      <td>Restaurant</td>\n",
       "    </tr>\n",
       "    <tr>\n",
       "      <th>3</th>\n",
       "      <td>13031</td>\n",
       "      <td>Restaurant</td>\n",
       "    </tr>\n",
       "    <tr>\n",
       "      <th>4</th>\n",
       "      <td>13039</td>\n",
       "      <td>Restaurant</td>\n",
       "    </tr>\n",
       "  </tbody>\n",
       "</table>\n",
       "</div>"
      ],
      "text/plain": [
       "   category_id category_name\n",
       "0        13026   Restaurant \n",
       "1        13027   Restaurant \n",
       "2        13030   Restaurant \n",
       "3        13031   Restaurant \n",
       "4        13039   Restaurant "
      ]
     },
     "execution_count": 79,
     "metadata": {},
     "output_type": "execute_result"
    }
   ],
   "source": [
    "fs_restaurant_df.head()"
   ]
  },
  {
   "cell_type": "code",
   "execution_count": 80,
   "metadata": {},
   "outputs": [],
   "source": [
    "column_names = ['category_id','theme','category_name']\n",
    "fs_bars_df = pd.read_csv('fs_bars_google.csv', header=None,usecols=[0,1,2],names=column_names)[['category_id','category_name']]"
   ]
  },
  {
   "cell_type": "code",
   "execution_count": 81,
   "metadata": {},
   "outputs": [],
   "source": [
    "column_names = ['category_id','theme','category_name']\n",
    "fs_fashion_retail_df = pd.read_csv('fs_fashion_retail_google.csv', header=None,usecols=[0,1,2],names=column_names)[['category_id','category_name']]"
   ]
  },
  {
   "cell_type": "code",
   "execution_count": 82,
   "metadata": {},
   "outputs": [
    {
     "data": {
      "text/html": [
       "<div>\n",
       "<style scoped>\n",
       "    .dataframe tbody tr th:only-of-type {\n",
       "        vertical-align: middle;\n",
       "    }\n",
       "\n",
       "    .dataframe tbody tr th {\n",
       "        vertical-align: top;\n",
       "    }\n",
       "\n",
       "    .dataframe thead th {\n",
       "        text-align: right;\n",
       "    }\n",
       "</style>\n",
       "<table border=\"1\" class=\"dataframe\">\n",
       "  <thead>\n",
       "    <tr style=\"text-align: right;\">\n",
       "      <th></th>\n",
       "      <th>category_id</th>\n",
       "      <th>category_name</th>\n",
       "    </tr>\n",
       "  </thead>\n",
       "  <tbody>\n",
       "    <tr>\n",
       "      <th>0</th>\n",
       "      <td>13026</td>\n",
       "      <td>Restaurant</td>\n",
       "    </tr>\n",
       "    <tr>\n",
       "      <th>1</th>\n",
       "      <td>13027</td>\n",
       "      <td>Restaurant</td>\n",
       "    </tr>\n",
       "    <tr>\n",
       "      <th>2</th>\n",
       "      <td>13030</td>\n",
       "      <td>Restaurant</td>\n",
       "    </tr>\n",
       "    <tr>\n",
       "      <th>3</th>\n",
       "      <td>13031</td>\n",
       "      <td>Restaurant</td>\n",
       "    </tr>\n",
       "    <tr>\n",
       "      <th>4</th>\n",
       "      <td>13039</td>\n",
       "      <td>Restaurant</td>\n",
       "    </tr>\n",
       "  </tbody>\n",
       "</table>\n",
       "</div>"
      ],
      "text/plain": [
       "   category_id category_name\n",
       "0        13026   Restaurant \n",
       "1        13027   Restaurant \n",
       "2        13030   Restaurant \n",
       "3        13031   Restaurant \n",
       "4        13039   Restaurant "
      ]
     },
     "execution_count": 82,
     "metadata": {},
     "output_type": "execute_result"
    }
   ],
   "source": [
    "fs_categories_df = pd.concat([fs_restaurant_df,fs_bars_df,fs_fashion_retail_df],axis=0)\n",
    "fs_categories_df.head()"
   ]
  },
  {
   "cell_type": "code",
   "execution_count": 83,
   "metadata": {},
   "outputs": [],
   "source": [
    "fs_categories_df['category_id']=fs_categories_df['category_id'].astype(str)\n",
    "fs_categories = fs_categories_df.set_index('category_id')['category_name'].to_dict()"
   ]
  },
  {
   "cell_type": "code",
   "execution_count": 84,
   "metadata": {
    "tags": []
   },
   "outputs": [
    {
     "data": {
      "text/plain": [
       "'Fashion Retail'"
      ]
     },
     "execution_count": 84,
     "metadata": {},
     "output_type": "execute_result"
    }
   ],
   "source": [
    "fs_categories['17052'].strip()"
   ]
  },
  {
   "cell_type": "code",
   "execution_count": 93,
   "metadata": {
    "tags": []
   },
   "outputs": [
    {
     "name": "stdout",
     "output_type": "stream",
     "text": [
      "True\n"
     ]
    }
   ],
   "source": [
    "if not \"\":\n",
    "  print(True)"
   ]
  },
  {
   "cell_type": "markdown",
   "metadata": {},
   "source": [
    "Parse through the response to get the POI (such as restaurants, bars, etc) details you want (ratings, name, location, etc)"
   ]
  },
  {
   "cell_type": "code",
   "execution_count": 131,
   "metadata": {
    "tags": []
   },
   "outputs": [],
   "source": [
    "# build helper function to parse the json output for the POIs\n",
    "def parse_fs_response(response_json,reference_station_id):\n",
    "    store_record = []\n",
    "    for poi in response_json['results']:\n",
    "        poi_id = poi.get('fsq_id',None)\n",
    "        poi_name = poi.get('name',None)\n",
    "        poi_distance = poi.get('distance',None)\n",
    "        poi_source = 'foursquare'\n",
    "        poi_rating = poi.get('rating',None)\n",
    "        poi_location = poi.get('location',{}).get('formatted_address',None)\n",
    "        poi_price_level = poi.get('price',None)\n",
    "        poi_total_reviews = poi.get('stats',{}).get('total_tips',None)\n",
    "        fs_categories_keys = [key for key in fs_categories.keys()]\n",
    "        poi_primary_category = \"\"\n",
    "        for category in poi['categories']:\n",
    "            if str(category['id']) in fs_categories_keys:\n",
    "                poi_primary_category = fs_categories[str(category['id'])].strip()\n",
    "                poi_sub_category = category.get('name',None)\n",
    "                break\n",
    "        if not poi_primary_category:\n",
    "            poi_primary_category = 'Unknown'\n",
    "            poi_sub_category = np.nan\n",
    "        record = {\n",
    "        'poi_reference_station_id':reference_station_id,\n",
    "        'poi_id':poi_id if poi_id is not None else np.nan,\n",
    "        'poi_name':poi_name if poi_name is not None else np.nan,\n",
    "        'poi_distance':poi_distance if poi_distance is not None else np.nan,\n",
    "        'poi_source':poi_source,\n",
    "        'poi_rating':round((float(poi_rating)/10)*100) if poi_rating is not None else np.nan,\n",
    "        'poi_price_level':poi_price_level if poi_price_level is not None else np.nan,\n",
    "        'poi_total_reviews':poi_total_reviews if poi_total_reviews is not None else np.nan,\n",
    "        'poi_location':poi_location if poi_location is not None else np.nan,\n",
    "        'poi_primary_category':poi_primary_category,\n",
    "        'poi_sub_category':poi_sub_category if poi_sub_category is not None else np.nan,\n",
    "        }\n",
    "        store_record.append(record)\n",
    "    return store_record"
   ]
  },
  {
   "cell_type": "code",
   "execution_count": 86,
   "metadata": {
    "tags": []
   },
   "outputs": [],
   "source": [
    "records = parse_fs_response(response,bike_location[0][0])"
   ]
  },
  {
   "cell_type": "code",
   "execution_count": 87,
   "metadata": {
    "tags": []
   },
   "outputs": [],
   "source": [
    "poi_df = pd.DataFrame(records)"
   ]
  },
  {
   "cell_type": "code",
   "execution_count": 99,
   "metadata": {
    "tags": []
   },
   "outputs": [
    {
     "data": {
      "text/html": [
       "<div>\n",
       "<style scoped>\n",
       "    .dataframe tbody tr th:only-of-type {\n",
       "        vertical-align: middle;\n",
       "    }\n",
       "\n",
       "    .dataframe tbody tr th {\n",
       "        vertical-align: top;\n",
       "    }\n",
       "\n",
       "    .dataframe thead th {\n",
       "        text-align: right;\n",
       "    }\n",
       "</style>\n",
       "<table border=\"1\" class=\"dataframe\">\n",
       "  <thead>\n",
       "    <tr style=\"text-align: right;\">\n",
       "      <th></th>\n",
       "      <th>poi_reference_station_id</th>\n",
       "      <th>poi_id</th>\n",
       "      <th>poi_name</th>\n",
       "      <th>poi_distance</th>\n",
       "      <th>poi_source</th>\n",
       "      <th>poi_rating</th>\n",
       "      <th>poi_price_level</th>\n",
       "      <th>poi_total_reviews</th>\n",
       "      <th>poi_location</th>\n",
       "      <th>poi_primary_category</th>\n",
       "      <th>poi_sub_category</th>\n",
       "    </tr>\n",
       "  </thead>\n",
       "  <tbody>\n",
       "    <tr>\n",
       "      <th>0</th>\n",
       "      <td>f5462555877f4cb1317baf6041527a93</td>\n",
       "      <td>5167ee31498e427ae94d6790</td>\n",
       "      <td>Other Stories</td>\n",
       "      <td>159</td>\n",
       "      <td>foursquare</td>\n",
       "      <td>89.0</td>\n",
       "      <td>NaN</td>\n",
       "      <td>13</td>\n",
       "      <td>Kurfürstendamm 234, 10719 Berlin</td>\n",
       "      <td>Fashion Retail</td>\n",
       "      <td>Women's Store</td>\n",
       "    </tr>\n",
       "    <tr>\n",
       "      <th>1</th>\n",
       "      <td>f5462555877f4cb1317baf6041527a93</td>\n",
       "      <td>618fedbcef568823929a748e</td>\n",
       "      <td>Chicago Williams BBQ</td>\n",
       "      <td>187</td>\n",
       "      <td>foursquare</td>\n",
       "      <td>87.0</td>\n",
       "      <td>2.0</td>\n",
       "      <td>9</td>\n",
       "      <td>Marburger Str. 16, 10789 Berlin</td>\n",
       "      <td>Restaurant</td>\n",
       "      <td>BBQ Joint</td>\n",
       "    </tr>\n",
       "    <tr>\n",
       "      <th>2</th>\n",
       "      <td>f5462555877f4cb1317baf6041527a93</td>\n",
       "      <td>56f31647498e5e450e4383fa</td>\n",
       "      <td>Upper Burger Grill</td>\n",
       "      <td>111</td>\n",
       "      <td>foursquare</td>\n",
       "      <td>83.0</td>\n",
       "      <td>2.0</td>\n",
       "      <td>109</td>\n",
       "      <td>Rankestr. 3, 10789 Berlin</td>\n",
       "      <td>Restaurant</td>\n",
       "      <td>BBQ Joint</td>\n",
       "    </tr>\n",
       "    <tr>\n",
       "      <th>3</th>\n",
       "      <td>f5462555877f4cb1317baf6041527a93</td>\n",
       "      <td>52ea152411d28bebe4d0b5f2</td>\n",
       "      <td>NENI Berlin</td>\n",
       "      <td>240</td>\n",
       "      <td>foursquare</td>\n",
       "      <td>86.0</td>\n",
       "      <td>3.0</td>\n",
       "      <td>179</td>\n",
       "      <td>Budapester Str. 40, Berlin</td>\n",
       "      <td>Restaurant</td>\n",
       "      <td>Mediterranean Restaurant</td>\n",
       "    </tr>\n",
       "    <tr>\n",
       "      <th>4</th>\n",
       "      <td>f5462555877f4cb1317baf6041527a93</td>\n",
       "      <td>52ea169411d28bebe4d114a1</td>\n",
       "      <td>Monkey Bar</td>\n",
       "      <td>205</td>\n",
       "      <td>foursquare</td>\n",
       "      <td>85.0</td>\n",
       "      <td>3.0</td>\n",
       "      <td>347</td>\n",
       "      <td>Budapester Str. 40, 10787 Berlin</td>\n",
       "      <td>Bar</td>\n",
       "      <td>Cocktail Bar</td>\n",
       "    </tr>\n",
       "  </tbody>\n",
       "</table>\n",
       "</div>"
      ],
      "text/plain": [
       "           poi_reference_station_id                    poi_id  \\\n",
       "0  f5462555877f4cb1317baf6041527a93  5167ee31498e427ae94d6790   \n",
       "1  f5462555877f4cb1317baf6041527a93  618fedbcef568823929a748e   \n",
       "2  f5462555877f4cb1317baf6041527a93  56f31647498e5e450e4383fa   \n",
       "3  f5462555877f4cb1317baf6041527a93  52ea152411d28bebe4d0b5f2   \n",
       "4  f5462555877f4cb1317baf6041527a93  52ea169411d28bebe4d114a1   \n",
       "\n",
       "               poi_name  poi_distance  poi_source  poi_rating  \\\n",
       "0         Other Stories           159  foursquare        89.0   \n",
       "1  Chicago Williams BBQ           187  foursquare        87.0   \n",
       "2    Upper Burger Grill           111  foursquare        83.0   \n",
       "3           NENI Berlin           240  foursquare        86.0   \n",
       "4            Monkey Bar           205  foursquare        85.0   \n",
       "\n",
       "   poi_price_level  poi_total_reviews                      poi_location  \\\n",
       "0              NaN                 13  Kurfürstendamm 234, 10719 Berlin   \n",
       "1              2.0                  9   Marburger Str. 16, 10789 Berlin   \n",
       "2              2.0                109         Rankestr. 3, 10789 Berlin   \n",
       "3              3.0                179        Budapester Str. 40, Berlin   \n",
       "4              3.0                347  Budapester Str. 40, 10787 Berlin   \n",
       "\n",
       "  poi_primary_category          poi_sub_category  \n",
       "0       Fashion Retail             Women's Store  \n",
       "1           Restaurant                 BBQ Joint  \n",
       "2           Restaurant                 BBQ Joint  \n",
       "3           Restaurant  Mediterranean Restaurant  \n",
       "4                  Bar              Cocktail Bar  "
      ]
     },
     "execution_count": 99,
     "metadata": {},
     "output_type": "execute_result"
    }
   ],
   "source": [
    "poi_df.head()"
   ]
  },
  {
   "cell_type": "code",
   "execution_count": 134,
   "metadata": {
    "tags": []
   },
   "outputs": [],
   "source": []
  },
  {
   "cell_type": "code",
   "execution_count": 35,
   "metadata": {
    "tags": []
   },
   "outputs": [],
   "source": []
  },
  {
   "cell_type": "markdown",
   "metadata": {},
   "source": [
    "Put your parsed results into a DataFrame"
   ]
  },
  {
   "cell_type": "code",
   "execution_count": 137,
   "metadata": {
    "tags": []
   },
   "outputs": [],
   "source": [
    "# use the helper functions to execute the batch calls\n",
    "bars_id = '13003'\n",
    "restaurant_id = '13065'\n",
    "fashion_retail_id = '17039'\n",
    "category_ids =f\"{bars_id},{restaurant_id},{fashion_retail_id}\"\n",
    "\n",
    "store_fs_records =[]\n",
    "for i in range(0,300):\n",
    "    try:\n",
    "        result= get_venues_fs(*bike_location[i][1],radius=1000,categories=category_ids)\n",
    "    except Exception as e:\n",
    "            print(e)\n",
    "    else:\n",
    "       records= parse_fs_response(result.json(),bike_location[i][0])\n",
    "       store_fs_records.extend(records)"
   ]
  },
  {
   "cell_type": "code",
   "execution_count": 138,
   "metadata": {
    "tags": []
   },
   "outputs": [
    {
     "data": {
      "text/plain": [
       "{'poi_reference_station_id': '0001cd599fc5f3ae6cfa5474779cd94f',\n",
       " 'poi_id': '4b6dcb34f964a52076902ce3',\n",
       " 'poi_name': 'Curry Baude',\n",
       " 'poi_distance': 115,\n",
       " 'poi_source': 'foursquare',\n",
       " 'poi_rating': 85,\n",
       " 'poi_price_level': 1,\n",
       " 'poi_total_reviews': 38,\n",
       " 'poi_location': 'Badstr. 1-5, 13357 Berlin',\n",
       " 'poi_primary_category': 'Restaurant',\n",
       " 'poi_sub_category': 'Fast Food Restaurant'}"
      ]
     },
     "execution_count": 138,
     "metadata": {},
     "output_type": "execute_result"
    }
   ],
   "source": [
    "store_fs_records[0]"
   ]
  },
  {
   "cell_type": "code",
   "execution_count": 139,
   "metadata": {
    "tags": []
   },
   "outputs": [],
   "source": [
    "poi_fs_df = pd.DataFrame(store_fs_records)"
   ]
  },
  {
   "cell_type": "code",
   "execution_count": 140,
   "metadata": {
    "tags": []
   },
   "outputs": [
    {
     "data": {
      "text/html": [
       "<div>\n",
       "<style scoped>\n",
       "    .dataframe tbody tr th:only-of-type {\n",
       "        vertical-align: middle;\n",
       "    }\n",
       "\n",
       "    .dataframe tbody tr th {\n",
       "        vertical-align: top;\n",
       "    }\n",
       "\n",
       "    .dataframe thead th {\n",
       "        text-align: right;\n",
       "    }\n",
       "</style>\n",
       "<table border=\"1\" class=\"dataframe\">\n",
       "  <thead>\n",
       "    <tr style=\"text-align: right;\">\n",
       "      <th></th>\n",
       "      <th>poi_reference_station_id</th>\n",
       "      <th>poi_id</th>\n",
       "      <th>poi_name</th>\n",
       "      <th>poi_distance</th>\n",
       "      <th>poi_source</th>\n",
       "      <th>poi_rating</th>\n",
       "      <th>poi_price_level</th>\n",
       "      <th>poi_total_reviews</th>\n",
       "      <th>poi_location</th>\n",
       "      <th>poi_primary_category</th>\n",
       "      <th>poi_sub_category</th>\n",
       "    </tr>\n",
       "  </thead>\n",
       "  <tbody>\n",
       "    <tr>\n",
       "      <th>0</th>\n",
       "      <td>0001cd599fc5f3ae6cfa5474779cd94f</td>\n",
       "      <td>4b6dcb34f964a52076902ce3</td>\n",
       "      <td>Curry Baude</td>\n",
       "      <td>115</td>\n",
       "      <td>foursquare</td>\n",
       "      <td>85.0</td>\n",
       "      <td>1.0</td>\n",
       "      <td>38.0</td>\n",
       "      <td>Badstr. 1-5, 13357 Berlin</td>\n",
       "      <td>Restaurant</td>\n",
       "      <td>Fast Food Restaurant</td>\n",
       "    </tr>\n",
       "    <tr>\n",
       "      <th>1</th>\n",
       "      <td>0001cd599fc5f3ae6cfa5474779cd94f</td>\n",
       "      <td>4b8d0776f964a520f1e432e3</td>\n",
       "      <td>La Femme</td>\n",
       "      <td>251</td>\n",
       "      <td>foursquare</td>\n",
       "      <td>86.0</td>\n",
       "      <td>2.0</td>\n",
       "      <td>14.0</td>\n",
       "      <td>Badstr. 67 (Hochstr.), 13357 Berlin</td>\n",
       "      <td>Restaurant</td>\n",
       "      <td>Restaurant</td>\n",
       "    </tr>\n",
       "    <tr>\n",
       "      <th>2</th>\n",
       "      <td>0001cd599fc5f3ae6cfa5474779cd94f</td>\n",
       "      <td>4beb27466295c9b6ce5c8708</td>\n",
       "      <td>Offside</td>\n",
       "      <td>566</td>\n",
       "      <td>foursquare</td>\n",
       "      <td>90.0</td>\n",
       "      <td>2.0</td>\n",
       "      <td>23.0</td>\n",
       "      <td>Jülicher Str. 4, 13357 Berlin</td>\n",
       "      <td>Bar</td>\n",
       "      <td>Sports Bar</td>\n",
       "    </tr>\n",
       "    <tr>\n",
       "      <th>3</th>\n",
       "      <td>0001cd599fc5f3ae6cfa5474779cd94f</td>\n",
       "      <td>4b705ad5f964a520d6142de3</td>\n",
       "      <td>Shalimar Restaurant</td>\n",
       "      <td>406</td>\n",
       "      <td>foursquare</td>\n",
       "      <td>81.0</td>\n",
       "      <td>2.0</td>\n",
       "      <td>24.0</td>\n",
       "      <td>Bellermannstr. 17a, 13357 Berlin</td>\n",
       "      <td>Restaurant</td>\n",
       "      <td>Indian Restaurant</td>\n",
       "    </tr>\n",
       "    <tr>\n",
       "      <th>4</th>\n",
       "      <td>0001cd599fc5f3ae6cfa5474779cd94f</td>\n",
       "      <td>4e72d880196b52816e04af8b</td>\n",
       "      <td>Studio8</td>\n",
       "      <td>380</td>\n",
       "      <td>foursquare</td>\n",
       "      <td>79.0</td>\n",
       "      <td>1.0</td>\n",
       "      <td>11.0</td>\n",
       "      <td>Grüntaler Str. 8, 13357 Berlin</td>\n",
       "      <td>Bar</td>\n",
       "      <td>Bar</td>\n",
       "    </tr>\n",
       "  </tbody>\n",
       "</table>\n",
       "</div>"
      ],
      "text/plain": [
       "           poi_reference_station_id                    poi_id  \\\n",
       "0  0001cd599fc5f3ae6cfa5474779cd94f  4b6dcb34f964a52076902ce3   \n",
       "1  0001cd599fc5f3ae6cfa5474779cd94f  4b8d0776f964a520f1e432e3   \n",
       "2  0001cd599fc5f3ae6cfa5474779cd94f  4beb27466295c9b6ce5c8708   \n",
       "3  0001cd599fc5f3ae6cfa5474779cd94f  4b705ad5f964a520d6142de3   \n",
       "4  0001cd599fc5f3ae6cfa5474779cd94f  4e72d880196b52816e04af8b   \n",
       "\n",
       "              poi_name  poi_distance  poi_source  poi_rating  poi_price_level  \\\n",
       "0          Curry Baude           115  foursquare        85.0              1.0   \n",
       "1             La Femme           251  foursquare        86.0              2.0   \n",
       "2              Offside           566  foursquare        90.0              2.0   \n",
       "3  Shalimar Restaurant           406  foursquare        81.0              2.0   \n",
       "4              Studio8           380  foursquare        79.0              1.0   \n",
       "\n",
       "   poi_total_reviews                         poi_location  \\\n",
       "0               38.0            Badstr. 1-5, 13357 Berlin   \n",
       "1               14.0  Badstr. 67 (Hochstr.), 13357 Berlin   \n",
       "2               23.0        Jülicher Str. 4, 13357 Berlin   \n",
       "3               24.0     Bellermannstr. 17a, 13357 Berlin   \n",
       "4               11.0       Grüntaler Str. 8, 13357 Berlin   \n",
       "\n",
       "  poi_primary_category      poi_sub_category  \n",
       "0           Restaurant  Fast Food Restaurant  \n",
       "1           Restaurant            Restaurant  \n",
       "2                  Bar            Sports Bar  \n",
       "3           Restaurant     Indian Restaurant  \n",
       "4                  Bar                   Bar  "
      ]
     },
     "execution_count": 140,
     "metadata": {},
     "output_type": "execute_result"
    }
   ],
   "source": [
    "poi_fs_df.head()"
   ]
  },
  {
   "cell_type": "code",
   "execution_count": 141,
   "metadata": {
    "tags": []
   },
   "outputs": [],
   "source": [
    "poi_fs_df.to_csv('fs_data.csv',index=False)"
   ]
  },
  {
   "cell_type": "code",
   "execution_count": 112,
   "metadata": {
    "tags": []
   },
   "outputs": [
    {
     "data": {
      "text/plain": [
       "87"
      ]
     },
     "execution_count": 112,
     "metadata": {},
     "output_type": "execute_result"
    }
   ],
   "source": [
    "round(86.999)"
   ]
  },
  {
   "cell_type": "code",
   "execution_count": null,
   "metadata": {
    "tags": []
   },
   "outputs": [],
   "source": []
  },
  {
   "cell_type": "code",
   "execution_count": 80,
   "metadata": {
    "tags": []
   },
   "outputs": [],
   "source": []
  },
  {
   "cell_type": "code",
   "execution_count": 81,
   "metadata": {
    "tags": []
   },
   "outputs": [],
   "source": []
  },
  {
   "cell_type": "code",
   "execution_count": 1,
   "metadata": {
    "tags": []
   },
   "outputs": [],
   "source": []
  },
  {
   "cell_type": "markdown",
   "metadata": {},
   "source": [
    "# Yelp"
   ]
  },
  {
   "cell_type": "markdown",
   "metadata": {},
   "source": [
    "Send a request to Yelp with a small radius (1000m) for all the bike stations in your city of choice. "
   ]
  },
  {
   "cell_type": "code",
   "execution_count": 4,
   "metadata": {
    "tags": []
   },
   "outputs": [],
   "source": [
    "YELP_KEY = config.yelp_apiKey"
   ]
  },
  {
   "cell_type": "code",
   "execution_count": 3,
   "metadata": {
    "tags": []
   },
   "outputs": [
    {
     "data": {
      "text/plain": [
       "['C:\\\\Users\\\\Etinosa Ekomwenrenr\\\\lighthouse_projects\\\\weekend_projects\\\\modeling\\\\Statistical-Modelling-Project\\\\notebooks',\n",
       " 'C:\\\\Users\\\\Etinosa Ekomwenrenr\\\\miniconda3\\\\envs\\\\datascience\\\\python38.zip',\n",
       " 'C:\\\\Users\\\\Etinosa Ekomwenrenr\\\\miniconda3\\\\envs\\\\datascience\\\\DLLs',\n",
       " 'C:\\\\Users\\\\Etinosa Ekomwenrenr\\\\miniconda3\\\\envs\\\\datascience\\\\lib',\n",
       " 'C:\\\\Users\\\\Etinosa Ekomwenrenr\\\\miniconda3\\\\envs\\\\datascience',\n",
       " '',\n",
       " 'C:\\\\Users\\\\Etinosa Ekomwenrenr\\\\miniconda3\\\\envs\\\\datascience\\\\lib\\\\site-packages',\n",
       " 'C:\\\\Users\\\\Etinosa Ekomwenrenr\\\\miniconda3\\\\envs\\\\datascience\\\\lib\\\\site-packages\\\\win32',\n",
       " 'C:\\\\Users\\\\Etinosa Ekomwenrenr\\\\miniconda3\\\\envs\\\\datascience\\\\lib\\\\site-packages\\\\win32\\\\lib',\n",
       " 'C:\\\\Users\\\\Etinosa Ekomwenrenr\\\\miniconda3\\\\envs\\\\datascience\\\\lib\\\\site-packages\\\\Pythonwin']"
      ]
     },
     "execution_count": 3,
     "metadata": {},
     "output_type": "execute_result"
    }
   ],
   "source": [
    "sys.path"
   ]
  },
  {
   "cell_type": "code",
   "execution_count": 2,
   "metadata": {
    "tags": []
   },
   "outputs": [
    {
     "data": {
      "text/plain": [
       "['__builtins__',\n",
       " '__cached__',\n",
       " '__doc__',\n",
       " '__file__',\n",
       " '__loader__',\n",
       " '__name__',\n",
       " '__package__',\n",
       " '__spec__',\n",
       " 'foursquare_apiKey',\n",
       " 'yelp_apiKey',\n",
       " 'yelp_client_id']"
      ]
     },
     "execution_count": 2,
     "metadata": {},
     "output_type": "execute_result"
    }
   ],
   "source": [
    "dir(config)"
   ]
  },
  {
   "cell_type": "code",
   "execution_count": 36,
   "metadata": {
    "tags": []
   },
   "outputs": [],
   "source": [
    "# build a helper function to avoid repeated calls\n",
    "def get_venues_yelp(latitude, longitude, radius,categories=None):\n",
    "    \"\"\"\n",
    "    Get venues from foursquare with a specified place type and coordinates.\n",
    "    Args:\n",
    "        latitude (float): latitude for query (must be combined with longitude)\n",
    "        longitude (float): longitude for query (must be combined with latitude)\n",
    "        api_key (str): foursquare API to use for query\n",
    "        categories (str) : Foursquare-recognized place type. If not passed no place_type will be specified. Separate ids with commas\n",
    "    \n",
    "    Returns:\n",
    "        response: response object from the requests library.\n",
    "    \"\"\"\n",
    "    url = 'https://api.yelp.com/v3/businesses/search'\n",
    "    \n",
    "    params = {\n",
    "    'latitude':str(latitude),\n",
    "    'longitude':str(longitude),\n",
    "    'radius':str(int(radius)),\n",
    "    'categories':categories\n",
    "    }\n",
    "    \n",
    "    headers = {\n",
    "    'Authorization': f\"Bearer {str(YELP_KEY)}\"\n",
    "    }\n",
    "    response = requests.get(url,params=params,headers=headers)\n",
    "    return response"
   ]
  },
  {
   "cell_type": "code",
   "execution_count": 121,
   "metadata": {
    "tags": []
   },
   "outputs": [],
   "source": [
    "# explore yelp api with test call\n",
    "bars_id = 'bars'\n",
    "restaurant_id = 'restaurants'\n",
    "fashion_retail_id = 'fashion'\n",
    "\n",
    "\n",
    "category_ids =f\"{bars_id},{restaurant_id},{fashion_retail_id}\""
   ]
  },
  {
   "cell_type": "code",
   "execution_count": 122,
   "metadata": {
    "tags": []
   },
   "outputs": [
    {
     "data": {
      "text/plain": [
       "'bars,restaurants,fashion'"
      ]
     },
     "execution_count": 122,
     "metadata": {},
     "output_type": "execute_result"
    }
   ],
   "source": [
    "category_ids"
   ]
  },
  {
   "cell_type": "code",
   "execution_count": null,
   "metadata": {},
   "outputs": [],
   "source": [
    "result = get_venues_yelp(*bike_location[0],radius=1000,categories=category_ids)"
   ]
  },
  {
   "cell_type": "code",
   "execution_count": 34,
   "metadata": {
    "tags": []
   },
   "outputs": [],
   "source": [
    "response = result.json()"
   ]
  },
  {
   "cell_type": "code",
   "execution_count": 43,
   "metadata": {
    "tags": []
   },
   "outputs": [
    {
     "data": {
      "text/plain": [
       "{'id': 'snbFWEiLSiMYYqbOCXGlJQ',\n",
       " 'alias': 'restaurant-heising-berlin',\n",
       " 'name': 'Restaurant Heising',\n",
       " 'image_url': 'https://s3-media2.fl.yelpcdn.com/bphoto/VBSD0Bk4DFkQehvvd11iJg/o.jpg',\n",
       " 'is_closed': False,\n",
       " 'url': 'https://www.yelp.com/biz/restaurant-heising-berlin?adjust_creative=qtawcsWGHEDGS1WIRYIVPQ&utm_campaign=yelp_api_v3&utm_medium=api_v3_business_search&utm_source=qtawcsWGHEDGS1WIRYIVPQ',\n",
       " 'review_count': 26,\n",
       " 'categories': [{'alias': 'french', 'title': 'French'}],\n",
       " 'rating': 4.5,\n",
       " 'coordinates': {'latitude': 52.50322, 'longitude': 13.33488},\n",
       " 'transactions': [],\n",
       " 'price': '€€€',\n",
       " 'location': {'address1': 'Rankestr. 32',\n",
       "  'address2': None,\n",
       "  'address3': None,\n",
       "  'city': 'Berlin',\n",
       "  'zip_code': '10789',\n",
       "  'country': 'DE',\n",
       "  'state': 'BE',\n",
       "  'display_address': ['Rankestr. 32', '10789 Berlin', 'Germany']},\n",
       " 'phone': '+49302133952',\n",
       " 'display_phone': '+49 30 2133952',\n",
       " 'distance': 100.35029545938917}"
      ]
     },
     "execution_count": 43,
     "metadata": {},
     "output_type": "execute_result"
    }
   ],
   "source": [
    "response['businesses'][0]"
   ]
  },
  {
   "cell_type": "code",
   "execution_count": null,
   "metadata": {},
   "outputs": [],
   "source": []
  },
  {
   "cell_type": "markdown",
   "metadata": {},
   "source": [
    "Parse through the response to get the POI (such as restaurants, bars, etc) details you want (ratings, name, location, etc)"
   ]
  },
  {
   "cell_type": "code",
   "execution_count": 44,
   "metadata": {},
   "outputs": [],
   "source": [
    "yelp_categories = categories.yelp_categories"
   ]
  },
  {
   "cell_type": "code",
   "execution_count": 45,
   "metadata": {
    "tags": []
   },
   "outputs": [
    {
     "data": {
      "text/plain": [
       "'Bar'"
      ]
     },
     "execution_count": 45,
     "metadata": {},
     "output_type": "execute_result"
    }
   ],
   "source": [
    "yelp_categories['bars']"
   ]
  },
  {
   "cell_type": "code",
   "execution_count": 143,
   "metadata": {
    "tags": []
   },
   "outputs": [],
   "source": [
    "# build helper function to parse the json output for the POIs\n",
    "def parse_yelp_response(response_json,reference_station_id):\n",
    "    store_record = []\n",
    "    for poi in response_json['businesses']:\n",
    "        poi_id = poi.get('id',None)\n",
    "        poi_name = poi.get('name',None)\n",
    "        poi_distance = poi.get('distance',None)\n",
    "        poi_source = 'yelp'\n",
    "        poi_rating = poi.get('rating',None)\n",
    "        poi_location = poi.get('location',{}).get('address1',None)\n",
    "        poi_price_level = poi.get('price',None)\n",
    "        poi_total_reviews = poi.get('review_count',None)\n",
    "        yelp_categories_keys = [key for key in yelp_categories.keys()]\n",
    "        poi_primary_category = \"\"\n",
    "        for category in poi['categories']:\n",
    "            if str(category['alias']) in yelp_categories_keys:\n",
    "                poi_primary_category = yelp_categories[str(category['alias'])].strip()\n",
    "                poi_sub_category = category.get('alias',None)\n",
    "            else:\n",
    "                poi_primary_category = 'Restaurant'\n",
    "                poi_sub_category = category.get('alias',None)\n",
    "            break\n",
    "        record = {\n",
    "        'poi_reference_station_id':reference_station_id,\n",
    "        'poi_id':poi_id if poi_id is not None else np.nan,\n",
    "        'poi_name':poi_name if poi_name is not None else np.nan,\n",
    "        'poi_distance':poi_distance if poi_distance is not None else np.nan,\n",
    "        'poi_source':poi_source,\n",
    "        'poi_rating':round((float(poi_rating)/5)*100) if poi_rating is not None else np.nan,\n",
    "        'poi_price_level':len(list(str(poi_price_level))) if poi_price_level is not None else np.nan,\n",
    "        'poi_total_reviews':poi_total_reviews if poi_total_reviews is not None else np.nan,\n",
    "        'poi_location':poi_location if poi_location is not None else np.nan,\n",
    "        'poi_primary_category':poi_primary_category,\n",
    "        'poi_sub_category':poi_sub_category if poi_sub_category is not None else np.nan,\n",
    "        }\n",
    "        store_record.append(record)\n",
    "    return store_record"
   ]
  },
  {
   "cell_type": "code",
   "execution_count": 52,
   "metadata": {
    "tags": []
   },
   "outputs": [],
   "source": [
    "records = parse_yelp_response(response)"
   ]
  },
  {
   "cell_type": "code",
   "execution_count": 53,
   "metadata": {
    "tags": []
   },
   "outputs": [],
   "source": [
    "poi_yelp_df = pd.DataFrame(records)"
   ]
  },
  {
   "cell_type": "code",
   "execution_count": 55,
   "metadata": {
    "tags": []
   },
   "outputs": [
    {
     "data": {
      "text/html": [
       "<div>\n",
       "<style scoped>\n",
       "    .dataframe tbody tr th:only-of-type {\n",
       "        vertical-align: middle;\n",
       "    }\n",
       "\n",
       "    .dataframe tbody tr th {\n",
       "        vertical-align: top;\n",
       "    }\n",
       "\n",
       "    .dataframe thead th {\n",
       "        text-align: right;\n",
       "    }\n",
       "</style>\n",
       "<table border=\"1\" class=\"dataframe\">\n",
       "  <thead>\n",
       "    <tr style=\"text-align: right;\">\n",
       "      <th></th>\n",
       "      <th>poi_id</th>\n",
       "      <th>poi_name</th>\n",
       "      <th>poi_distance</th>\n",
       "      <th>poi_source</th>\n",
       "      <th>poi_rating</th>\n",
       "      <th>poi_price_level</th>\n",
       "      <th>poi_total_reviews</th>\n",
       "      <th>poi_location</th>\n",
       "      <th>poi_primary_category</th>\n",
       "      <th>poi_sub_category</th>\n",
       "    </tr>\n",
       "  </thead>\n",
       "  <tbody>\n",
       "    <tr>\n",
       "      <th>0</th>\n",
       "      <td>snbFWEiLSiMYYqbOCXGlJQ</td>\n",
       "      <td>Restaurant Heising</td>\n",
       "      <td>100.350295</td>\n",
       "      <td>yelp</td>\n",
       "      <td>90.0</td>\n",
       "      <td>3</td>\n",
       "      <td>26</td>\n",
       "      <td>Rankestr. 32</td>\n",
       "      <td>Restaurant</td>\n",
       "      <td>french</td>\n",
       "    </tr>\n",
       "    <tr>\n",
       "      <th>1</th>\n",
       "      <td>_lNkh-NUq1UbC3-kQb7mUw</td>\n",
       "      <td>Cao Cao</td>\n",
       "      <td>159.941631</td>\n",
       "      <td>yelp</td>\n",
       "      <td>90.0</td>\n",
       "      <td>2</td>\n",
       "      <td>41</td>\n",
       "      <td>Marburger Str. 2</td>\n",
       "      <td>Restaurant</td>\n",
       "      <td>vietnamese</td>\n",
       "    </tr>\n",
       "    <tr>\n",
       "      <th>2</th>\n",
       "      <td>3VZeCWNPMQQs3q8PEtxbJw</td>\n",
       "      <td>Neni Berlin</td>\n",
       "      <td>172.040536</td>\n",
       "      <td>yelp</td>\n",
       "      <td>70.0</td>\n",
       "      <td>3</td>\n",
       "      <td>119</td>\n",
       "      <td>Budapester Str. 40</td>\n",
       "      <td>Restaurant</td>\n",
       "      <td>israeli</td>\n",
       "    </tr>\n",
       "    <tr>\n",
       "      <th>3</th>\n",
       "      <td>rhjEqwKz8PR27zETg0mZZQ</td>\n",
       "      <td>L'Osteria</td>\n",
       "      <td>228.159344</td>\n",
       "      <td>yelp</td>\n",
       "      <td>70.0</td>\n",
       "      <td>2</td>\n",
       "      <td>81</td>\n",
       "      <td>Budapester Str. 38 - 50</td>\n",
       "      <td>Restaurant</td>\n",
       "      <td>italian</td>\n",
       "    </tr>\n",
       "    <tr>\n",
       "      <th>4</th>\n",
       "      <td>nrK5bxNb76qybG-3GSx8hw</td>\n",
       "      <td>Upper Burger Grill</td>\n",
       "      <td>107.624815</td>\n",
       "      <td>yelp</td>\n",
       "      <td>80.0</td>\n",
       "      <td>1</td>\n",
       "      <td>49</td>\n",
       "      <td>Rankestr. 3</td>\n",
       "      <td>Restaurant</td>\n",
       "      <td>steak</td>\n",
       "    </tr>\n",
       "    <tr>\n",
       "      <th>5</th>\n",
       "      <td>ZQNW9eAWn7Ej9LKuBoiVXA</td>\n",
       "      <td>La Sepia</td>\n",
       "      <td>152.320660</td>\n",
       "      <td>yelp</td>\n",
       "      <td>80.0</td>\n",
       "      <td>3</td>\n",
       "      <td>55</td>\n",
       "      <td>Marburger Str. 2</td>\n",
       "      <td>Restaurant</td>\n",
       "      <td>spanish</td>\n",
       "    </tr>\n",
       "    <tr>\n",
       "      <th>6</th>\n",
       "      <td>EArHZu-0cOEQfkVJjzMKsg</td>\n",
       "      <td>Lang Bar</td>\n",
       "      <td>227.457651</td>\n",
       "      <td>yelp</td>\n",
       "      <td>90.0</td>\n",
       "      <td>4</td>\n",
       "      <td>25</td>\n",
       "      <td>Waldorf Astoria Berlin</td>\n",
       "      <td>Bar</td>\n",
       "      <td>cocktailbars</td>\n",
       "    </tr>\n",
       "    <tr>\n",
       "      <th>7</th>\n",
       "      <td>zoqrQLulC-weIVB83OIc4Q</td>\n",
       "      <td>Elefant</td>\n",
       "      <td>892.975704</td>\n",
       "      <td>yelp</td>\n",
       "      <td>90.0</td>\n",
       "      <td>2</td>\n",
       "      <td>184</td>\n",
       "      <td>Fuggerstr. 18</td>\n",
       "      <td>Restaurant</td>\n",
       "      <td>german</td>\n",
       "    </tr>\n",
       "    <tr>\n",
       "      <th>8</th>\n",
       "      <td>Wf22t_02JGIR1b3p83cmsg</td>\n",
       "      <td>Asia-Land</td>\n",
       "      <td>298.158536</td>\n",
       "      <td>yelp</td>\n",
       "      <td>90.0</td>\n",
       "      <td>2</td>\n",
       "      <td>20</td>\n",
       "      <td>Augsburger Str. 29</td>\n",
       "      <td>Restaurant</td>\n",
       "      <td>panasian</td>\n",
       "    </tr>\n",
       "    <tr>\n",
       "      <th>9</th>\n",
       "      <td>qwepqtmQnoSw4ZpADi2tGg</td>\n",
       "      <td>BLOCK HOUSE</td>\n",
       "      <td>181.385572</td>\n",
       "      <td>yelp</td>\n",
       "      <td>70.0</td>\n",
       "      <td>3</td>\n",
       "      <td>39</td>\n",
       "      <td>Budapester Str. 42-50</td>\n",
       "      <td>Restaurant</td>\n",
       "      <td>steak</td>\n",
       "    </tr>\n",
       "    <tr>\n",
       "      <th>10</th>\n",
       "      <td>GOLHDODGK2HaK3ttuMFlPw</td>\n",
       "      <td>Restaurant Le Faubourg</td>\n",
       "      <td>298.802373</td>\n",
       "      <td>yelp</td>\n",
       "      <td>80.0</td>\n",
       "      <td>3</td>\n",
       "      <td>35</td>\n",
       "      <td>Augsburger Str. 41</td>\n",
       "      <td>Restaurant</td>\n",
       "      <td>french</td>\n",
       "    </tr>\n",
       "    <tr>\n",
       "      <th>11</th>\n",
       "      <td>koDENSOw9e-gTahlphmfsA</td>\n",
       "      <td>Das Bonito</td>\n",
       "      <td>323.903040</td>\n",
       "      <td>yelp</td>\n",
       "      <td>80.0</td>\n",
       "      <td>2</td>\n",
       "      <td>60</td>\n",
       "      <td>Nürnberger Str. 21</td>\n",
       "      <td>Restaurant</td>\n",
       "      <td>tapas</td>\n",
       "    </tr>\n",
       "    <tr>\n",
       "      <th>12</th>\n",
       "      <td>yzB5UCuIDwjO1qXi_4lvLw</td>\n",
       "      <td>Super Concept Space</td>\n",
       "      <td>163.382149</td>\n",
       "      <td>yelp</td>\n",
       "      <td>70.0</td>\n",
       "      <td>2</td>\n",
       "      <td>30</td>\n",
       "      <td>Budapester Str. 50</td>\n",
       "      <td>Restaurant</td>\n",
       "      <td>international</td>\n",
       "    </tr>\n",
       "    <tr>\n",
       "      <th>13</th>\n",
       "      <td>wI3ocVHI5RLHtb29vtTCvg</td>\n",
       "      <td>Osteria Ribaltone</td>\n",
       "      <td>1019.814772</td>\n",
       "      <td>yelp</td>\n",
       "      <td>90.0</td>\n",
       "      <td>2</td>\n",
       "      <td>90</td>\n",
       "      <td>Motzstr. 54</td>\n",
       "      <td>Restaurant</td>\n",
       "      <td>italian</td>\n",
       "    </tr>\n",
       "    <tr>\n",
       "      <th>14</th>\n",
       "      <td>6ZQWI3ni4OQ_ZAmQ2_9E0Q</td>\n",
       "      <td>Monkey Bar</td>\n",
       "      <td>172.040536</td>\n",
       "      <td>yelp</td>\n",
       "      <td>70.0</td>\n",
       "      <td>3</td>\n",
       "      <td>164</td>\n",
       "      <td>Budapester Str. 40</td>\n",
       "      <td>Bar</td>\n",
       "      <td>cocktailbars</td>\n",
       "    </tr>\n",
       "    <tr>\n",
       "      <th>15</th>\n",
       "      <td>Ne7akh6Q_FlyeudSDrwY-g</td>\n",
       "      <td>Luardi</td>\n",
       "      <td>466.981045</td>\n",
       "      <td>yelp</td>\n",
       "      <td>80.0</td>\n",
       "      <td>2</td>\n",
       "      <td>71</td>\n",
       "      <td>Meinekestr. 24</td>\n",
       "      <td>Restaurant</td>\n",
       "      <td>italian</td>\n",
       "    </tr>\n",
       "    <tr>\n",
       "      <th>16</th>\n",
       "      <td>7J-ajOBcPgfi5BSiughgzQ</td>\n",
       "      <td>Schwarzes Café</td>\n",
       "      <td>776.599313</td>\n",
       "      <td>yelp</td>\n",
       "      <td>80.0</td>\n",
       "      <td>2</td>\n",
       "      <td>346</td>\n",
       "      <td>Kantstr. 148</td>\n",
       "      <td>Restaurant</td>\n",
       "      <td>breakfast_brunch</td>\n",
       "    </tr>\n",
       "    <tr>\n",
       "      <th>17</th>\n",
       "      <td>MYRxQSpNKFuOjPuDkhZzWQ</td>\n",
       "      <td>Curry 36</td>\n",
       "      <td>329.059949</td>\n",
       "      <td>yelp</td>\n",
       "      <td>70.0</td>\n",
       "      <td>1</td>\n",
       "      <td>122</td>\n",
       "      <td>Hardenbergplatz 9</td>\n",
       "      <td>Restaurant</td>\n",
       "      <td>currysausage</td>\n",
       "    </tr>\n",
       "    <tr>\n",
       "      <th>18</th>\n",
       "      <td>yyKzV1Ng0dpn2QUaWJeYiw</td>\n",
       "      <td>Jim Block Bikini</td>\n",
       "      <td>245.557960</td>\n",
       "      <td>yelp</td>\n",
       "      <td>70.0</td>\n",
       "      <td>2</td>\n",
       "      <td>84</td>\n",
       "      <td>Budapester Str. 38-50</td>\n",
       "      <td>Restaurant</td>\n",
       "      <td>hotdogs</td>\n",
       "    </tr>\n",
       "    <tr>\n",
       "      <th>19</th>\n",
       "      <td>w4Rn3wpEsIU2U5h0D0CK8Q</td>\n",
       "      <td>Gasthaus Krombach</td>\n",
       "      <td>515.650151</td>\n",
       "      <td>yelp</td>\n",
       "      <td>90.0</td>\n",
       "      <td>2</td>\n",
       "      <td>121</td>\n",
       "      <td>Meinekestr. 4</td>\n",
       "      <td>Restaurant</td>\n",
       "      <td>german</td>\n",
       "    </tr>\n",
       "  </tbody>\n",
       "</table>\n",
       "</div>"
      ],
      "text/plain": [
       "                    poi_id                poi_name  poi_distance poi_source  \\\n",
       "0   snbFWEiLSiMYYqbOCXGlJQ      Restaurant Heising    100.350295       yelp   \n",
       "1   _lNkh-NUq1UbC3-kQb7mUw                 Cao Cao    159.941631       yelp   \n",
       "2   3VZeCWNPMQQs3q8PEtxbJw             Neni Berlin    172.040536       yelp   \n",
       "3   rhjEqwKz8PR27zETg0mZZQ               L'Osteria    228.159344       yelp   \n",
       "4   nrK5bxNb76qybG-3GSx8hw      Upper Burger Grill    107.624815       yelp   \n",
       "5   ZQNW9eAWn7Ej9LKuBoiVXA                La Sepia    152.320660       yelp   \n",
       "6   EArHZu-0cOEQfkVJjzMKsg                Lang Bar    227.457651       yelp   \n",
       "7   zoqrQLulC-weIVB83OIc4Q                 Elefant    892.975704       yelp   \n",
       "8   Wf22t_02JGIR1b3p83cmsg               Asia-Land    298.158536       yelp   \n",
       "9   qwepqtmQnoSw4ZpADi2tGg             BLOCK HOUSE    181.385572       yelp   \n",
       "10  GOLHDODGK2HaK3ttuMFlPw  Restaurant Le Faubourg    298.802373       yelp   \n",
       "11  koDENSOw9e-gTahlphmfsA              Das Bonito    323.903040       yelp   \n",
       "12  yzB5UCuIDwjO1qXi_4lvLw     Super Concept Space    163.382149       yelp   \n",
       "13  wI3ocVHI5RLHtb29vtTCvg       Osteria Ribaltone   1019.814772       yelp   \n",
       "14  6ZQWI3ni4OQ_ZAmQ2_9E0Q              Monkey Bar    172.040536       yelp   \n",
       "15  Ne7akh6Q_FlyeudSDrwY-g                  Luardi    466.981045       yelp   \n",
       "16  7J-ajOBcPgfi5BSiughgzQ          Schwarzes Café    776.599313       yelp   \n",
       "17  MYRxQSpNKFuOjPuDkhZzWQ                Curry 36    329.059949       yelp   \n",
       "18  yyKzV1Ng0dpn2QUaWJeYiw        Jim Block Bikini    245.557960       yelp   \n",
       "19  w4Rn3wpEsIU2U5h0D0CK8Q       Gasthaus Krombach    515.650151       yelp   \n",
       "\n",
       "    poi_rating  poi_price_level  poi_total_reviews             poi_location  \\\n",
       "0         90.0                3                 26             Rankestr. 32   \n",
       "1         90.0                2                 41         Marburger Str. 2   \n",
       "2         70.0                3                119       Budapester Str. 40   \n",
       "3         70.0                2                 81  Budapester Str. 38 - 50   \n",
       "4         80.0                1                 49              Rankestr. 3   \n",
       "5         80.0                3                 55         Marburger Str. 2   \n",
       "6         90.0                4                 25   Waldorf Astoria Berlin   \n",
       "7         90.0                2                184            Fuggerstr. 18   \n",
       "8         90.0                2                 20       Augsburger Str. 29   \n",
       "9         70.0                3                 39    Budapester Str. 42-50   \n",
       "10        80.0                3                 35       Augsburger Str. 41   \n",
       "11        80.0                2                 60       Nürnberger Str. 21   \n",
       "12        70.0                2                 30       Budapester Str. 50   \n",
       "13        90.0                2                 90              Motzstr. 54   \n",
       "14        70.0                3                164       Budapester Str. 40   \n",
       "15        80.0                2                 71           Meinekestr. 24   \n",
       "16        80.0                2                346             Kantstr. 148   \n",
       "17        70.0                1                122        Hardenbergplatz 9   \n",
       "18        70.0                2                 84    Budapester Str. 38-50   \n",
       "19        90.0                2                121            Meinekestr. 4   \n",
       "\n",
       "   poi_primary_category  poi_sub_category  \n",
       "0            Restaurant            french  \n",
       "1            Restaurant        vietnamese  \n",
       "2            Restaurant           israeli  \n",
       "3            Restaurant           italian  \n",
       "4            Restaurant             steak  \n",
       "5            Restaurant           spanish  \n",
       "6                   Bar      cocktailbars  \n",
       "7            Restaurant            german  \n",
       "8            Restaurant          panasian  \n",
       "9            Restaurant             steak  \n",
       "10           Restaurant            french  \n",
       "11           Restaurant             tapas  \n",
       "12           Restaurant     international  \n",
       "13           Restaurant           italian  \n",
       "14                  Bar      cocktailbars  \n",
       "15           Restaurant           italian  \n",
       "16           Restaurant  breakfast_brunch  \n",
       "17           Restaurant      currysausage  \n",
       "18           Restaurant           hotdogs  \n",
       "19           Restaurant            german  "
      ]
     },
     "execution_count": 55,
     "metadata": {},
     "output_type": "execute_result"
    }
   ],
   "source": [
    "poi_yelp_df.head(20)"
   ]
  },
  {
   "cell_type": "markdown",
   "metadata": {},
   "source": [
    "Put your parsed results into a DataFrame"
   ]
  },
  {
   "cell_type": "code",
   "execution_count": 160,
   "metadata": {
    "tags": []
   },
   "outputs": [],
   "source": [
    "# use the helper functions to execute the batch calls\n",
    "bars_id = 'bars'\n",
    "restaurant_id = 'restaurants'\n",
    "fashion_retail_id = 'fashion'\n",
    "category_ids =f\"{bars_id},{restaurant_id},{fashion_retail_id}\"\n",
    "\n",
    "store_yelp_records =[]\n",
    "for i in range(0,300):\n",
    "    #print(i)\n",
    "    #print(bike_location[i][0])\n",
    "    try:\n",
    "        result=get_venues_yelp(*bike_location[i][1],radius=1000,categories=category_ids)\n",
    "    except Exception as e:\n",
    "            print(e)\n",
    "    else:\n",
    "       records= parse_yelp_response(result.json(),bike_location[i][0])\n",
    "       store_yelp_records.extend(records)"
   ]
  },
  {
   "cell_type": "code",
   "execution_count": 161,
   "metadata": {
    "tags": []
   },
   "outputs": [
    {
     "data": {
      "text/plain": [
       "5637"
      ]
     },
     "execution_count": 161,
     "metadata": {},
     "output_type": "execute_result"
    }
   ],
   "source": [
    "len(store_yelp_records)"
   ]
  },
  {
   "cell_type": "code",
   "execution_count": 162,
   "metadata": {
    "tags": []
   },
   "outputs": [],
   "source": [
    "poi_yelp_df = pd.DataFrame(store_yelp_records)"
   ]
  },
  {
   "cell_type": "code",
   "execution_count": 163,
   "metadata": {
    "tags": []
   },
   "outputs": [
    {
     "data": {
      "text/html": [
       "<div>\n",
       "<style scoped>\n",
       "    .dataframe tbody tr th:only-of-type {\n",
       "        vertical-align: middle;\n",
       "    }\n",
       "\n",
       "    .dataframe tbody tr th {\n",
       "        vertical-align: top;\n",
       "    }\n",
       "\n",
       "    .dataframe thead th {\n",
       "        text-align: right;\n",
       "    }\n",
       "</style>\n",
       "<table border=\"1\" class=\"dataframe\">\n",
       "  <thead>\n",
       "    <tr style=\"text-align: right;\">\n",
       "      <th></th>\n",
       "      <th>poi_reference_station_id</th>\n",
       "      <th>poi_id</th>\n",
       "      <th>poi_name</th>\n",
       "      <th>poi_distance</th>\n",
       "      <th>poi_source</th>\n",
       "      <th>poi_rating</th>\n",
       "      <th>poi_price_level</th>\n",
       "      <th>poi_total_reviews</th>\n",
       "      <th>poi_location</th>\n",
       "      <th>poi_primary_category</th>\n",
       "      <th>poi_sub_category</th>\n",
       "    </tr>\n",
       "  </thead>\n",
       "  <tbody>\n",
       "    <tr>\n",
       "      <th>0</th>\n",
       "      <td>0001cd599fc5f3ae6cfa5474779cd94f</td>\n",
       "      <td>p11gyzRUK0o9SqV25qX8YQ</td>\n",
       "      <td>Curry Baude</td>\n",
       "      <td>102.145973</td>\n",
       "      <td>yelp</td>\n",
       "      <td>90</td>\n",
       "      <td>1.0</td>\n",
       "      <td>108</td>\n",
       "      <td>Badstr. 1 - 5</td>\n",
       "      <td>Restaurant</td>\n",
       "      <td>currysausage</td>\n",
       "    </tr>\n",
       "    <tr>\n",
       "      <th>1</th>\n",
       "      <td>0001cd599fc5f3ae6cfa5474779cd94f</td>\n",
       "      <td>XvwwWZojW5lExwdtujz-7w</td>\n",
       "      <td>Pizza Pasta Tralala</td>\n",
       "      <td>109.747869</td>\n",
       "      <td>yelp</td>\n",
       "      <td>80</td>\n",
       "      <td>1.0</td>\n",
       "      <td>29</td>\n",
       "      <td>Badstr. 4</td>\n",
       "      <td>Restaurant</td>\n",
       "      <td>pizza</td>\n",
       "    </tr>\n",
       "    <tr>\n",
       "      <th>2</th>\n",
       "      <td>0001cd599fc5f3ae6cfa5474779cd94f</td>\n",
       "      <td>A4YUIQQEBkXCMJ38JovZ3w</td>\n",
       "      <td>Lichtburg</td>\n",
       "      <td>182.872133</td>\n",
       "      <td>yelp</td>\n",
       "      <td>80</td>\n",
       "      <td>2.0</td>\n",
       "      <td>40</td>\n",
       "      <td>Behmstr. 9</td>\n",
       "      <td>Restaurant</td>\n",
       "      <td>german</td>\n",
       "    </tr>\n",
       "    <tr>\n",
       "      <th>3</th>\n",
       "      <td>0001cd599fc5f3ae6cfa5474779cd94f</td>\n",
       "      <td>ZEUm1htbgBHyjR0E0YjlBg</td>\n",
       "      <td>Shalimar</td>\n",
       "      <td>408.614625</td>\n",
       "      <td>yelp</td>\n",
       "      <td>90</td>\n",
       "      <td>2.0</td>\n",
       "      <td>68</td>\n",
       "      <td>Bellermannstr. 17 A</td>\n",
       "      <td>Restaurant</td>\n",
       "      <td>pakistani</td>\n",
       "    </tr>\n",
       "    <tr>\n",
       "      <th>4</th>\n",
       "      <td>0001cd599fc5f3ae6cfa5474779cd94f</td>\n",
       "      <td>C49HN1YVvsNa3WnoU3uITQ</td>\n",
       "      <td>Cocos</td>\n",
       "      <td>123.776481</td>\n",
       "      <td>yelp</td>\n",
       "      <td>80</td>\n",
       "      <td>2.0</td>\n",
       "      <td>18</td>\n",
       "      <td>Badstr. 4</td>\n",
       "      <td>Restaurant</td>\n",
       "      <td>sushi</td>\n",
       "    </tr>\n",
       "  </tbody>\n",
       "</table>\n",
       "</div>"
      ],
      "text/plain": [
       "           poi_reference_station_id                  poi_id  \\\n",
       "0  0001cd599fc5f3ae6cfa5474779cd94f  p11gyzRUK0o9SqV25qX8YQ   \n",
       "1  0001cd599fc5f3ae6cfa5474779cd94f  XvwwWZojW5lExwdtujz-7w   \n",
       "2  0001cd599fc5f3ae6cfa5474779cd94f  A4YUIQQEBkXCMJ38JovZ3w   \n",
       "3  0001cd599fc5f3ae6cfa5474779cd94f  ZEUm1htbgBHyjR0E0YjlBg   \n",
       "4  0001cd599fc5f3ae6cfa5474779cd94f  C49HN1YVvsNa3WnoU3uITQ   \n",
       "\n",
       "              poi_name  poi_distance poi_source  poi_rating  poi_price_level  \\\n",
       "0          Curry Baude    102.145973       yelp          90              1.0   \n",
       "1  Pizza Pasta Tralala    109.747869       yelp          80              1.0   \n",
       "2            Lichtburg    182.872133       yelp          80              2.0   \n",
       "3             Shalimar    408.614625       yelp          90              2.0   \n",
       "4                Cocos    123.776481       yelp          80              2.0   \n",
       "\n",
       "   poi_total_reviews         poi_location poi_primary_category  \\\n",
       "0                108        Badstr. 1 - 5           Restaurant   \n",
       "1                 29            Badstr. 4           Restaurant   \n",
       "2                 40           Behmstr. 9           Restaurant   \n",
       "3                 68  Bellermannstr. 17 A           Restaurant   \n",
       "4                 18            Badstr. 4           Restaurant   \n",
       "\n",
       "  poi_sub_category  \n",
       "0     currysausage  \n",
       "1            pizza  \n",
       "2           german  \n",
       "3        pakistani  \n",
       "4            sushi  "
      ]
     },
     "execution_count": 163,
     "metadata": {},
     "output_type": "execute_result"
    }
   ],
   "source": [
    "poi_yelp_df.head()"
   ]
  },
  {
   "cell_type": "code",
   "execution_count": 164,
   "metadata": {
    "tags": []
   },
   "outputs": [],
   "source": [
    "poi_yelp_df.to_csv('yelp_data.csv',index=False)"
   ]
  },
  {
   "cell_type": "markdown",
   "metadata": {},
   "source": [
    "# Comparing Results"
   ]
  },
  {
   "cell_type": "markdown",
   "metadata": {},
   "source": [
    "Which API provided you with more complete data? Provide an explanation. "
   ]
  },
  {
   "cell_type": "markdown",
   "metadata": {},
   "source": []
  },
  {
   "cell_type": "markdown",
   "metadata": {},
   "source": [
    "Get the top 10 restaurants according to their rating"
   ]
  },
  {
   "cell_type": "code",
   "execution_count": null,
   "metadata": {},
   "outputs": [],
   "source": []
  }
 ],
 "metadata": {
  "kernelspec": {
   "display_name": "Python [conda env:datascience] *",
   "language": "python",
   "name": "conda-env-datascience-py"
  },
  "language_info": {
   "codemirror_mode": {
    "name": "ipython",
    "version": 3
   },
   "file_extension": ".py",
   "mimetype": "text/x-python",
   "name": "python",
   "nbconvert_exporter": "python",
   "pygments_lexer": "ipython3",
   "version": "3.8.18"
  }
 },
 "nbformat": 4,
 "nbformat_minor": 4
}
